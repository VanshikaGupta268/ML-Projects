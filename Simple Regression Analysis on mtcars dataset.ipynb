{
  "cells": [
    {
      "cell_type": "code",
      "execution_count": 148,
      "id": "a4dbdc23",
      "metadata": {
        "id": "a4dbdc23"
      },
      "outputs": [],
      "source": [
        "#importing libraries\n",
        "import pandas as pd\n",
        "import numpy as np\n",
        "import matplotlib.pyplot as plt\n",
        "import seaborn as sns\n",
        "import math"
      ]
    },
    {
      "cell_type": "code",
      "execution_count": 149,
      "id": "76e0322c",
      "metadata": {
        "id": "76e0322c"
      },
      "outputs": [],
      "source": [
        "#importing dataset\n",
        "mtcars= pd.read_csv(\"/content/sample_data/mtcars.csv\")"
      ]
    },
    {
      "cell_type": "code",
      "execution_count": 150,
      "id": "945b3186",
      "metadata": {
        "colab": {
          "base_uri": "https://localhost:8080/",
          "height": 206
        },
        "id": "945b3186",
        "outputId": "34b57f48-d49e-456a-cd3a-bbf728749973"
      },
      "outputs": [
        {
          "output_type": "execute_result",
          "data": {
            "text/plain": [
              "               model   mpg  cyl   disp   hp  drat     wt   qsec  vs  am  gear  \\\n",
              "0          Mazda RX4  21.0    6  160.0  110  3.90  2.620  16.46   0   1     4   \n",
              "1      Mazda RX4 Wag  21.0    6  160.0  110  3.90  2.875  17.02   0   1     4   \n",
              "2         Datsun 710  22.8    4  108.0   93  3.85  2.320  18.61   1   1     4   \n",
              "3     Hornet 4 Drive  21.4    6  258.0  110  3.08  3.215  19.44   1   0     3   \n",
              "4  Hornet Sportabout  18.7    8  360.0  175  3.15  3.440  17.02   0   0     3   \n",
              "\n",
              "   carb  \n",
              "0     4  \n",
              "1     4  \n",
              "2     1  \n",
              "3     1  \n",
              "4     2  "
            ],
            "text/html": [
              "\n",
              "  <div id=\"df-12994827-e48b-4dc4-adbe-ccf29d0d7c10\">\n",
              "    <div class=\"colab-df-container\">\n",
              "      <div>\n",
              "<style scoped>\n",
              "    .dataframe tbody tr th:only-of-type {\n",
              "        vertical-align: middle;\n",
              "    }\n",
              "\n",
              "    .dataframe tbody tr th {\n",
              "        vertical-align: top;\n",
              "    }\n",
              "\n",
              "    .dataframe thead th {\n",
              "        text-align: right;\n",
              "    }\n",
              "</style>\n",
              "<table border=\"1\" class=\"dataframe\">\n",
              "  <thead>\n",
              "    <tr style=\"text-align: right;\">\n",
              "      <th></th>\n",
              "      <th>model</th>\n",
              "      <th>mpg</th>\n",
              "      <th>cyl</th>\n",
              "      <th>disp</th>\n",
              "      <th>hp</th>\n",
              "      <th>drat</th>\n",
              "      <th>wt</th>\n",
              "      <th>qsec</th>\n",
              "      <th>vs</th>\n",
              "      <th>am</th>\n",
              "      <th>gear</th>\n",
              "      <th>carb</th>\n",
              "    </tr>\n",
              "  </thead>\n",
              "  <tbody>\n",
              "    <tr>\n",
              "      <th>0</th>\n",
              "      <td>Mazda RX4</td>\n",
              "      <td>21.0</td>\n",
              "      <td>6</td>\n",
              "      <td>160.0</td>\n",
              "      <td>110</td>\n",
              "      <td>3.90</td>\n",
              "      <td>2.620</td>\n",
              "      <td>16.46</td>\n",
              "      <td>0</td>\n",
              "      <td>1</td>\n",
              "      <td>4</td>\n",
              "      <td>4</td>\n",
              "    </tr>\n",
              "    <tr>\n",
              "      <th>1</th>\n",
              "      <td>Mazda RX4 Wag</td>\n",
              "      <td>21.0</td>\n",
              "      <td>6</td>\n",
              "      <td>160.0</td>\n",
              "      <td>110</td>\n",
              "      <td>3.90</td>\n",
              "      <td>2.875</td>\n",
              "      <td>17.02</td>\n",
              "      <td>0</td>\n",
              "      <td>1</td>\n",
              "      <td>4</td>\n",
              "      <td>4</td>\n",
              "    </tr>\n",
              "    <tr>\n",
              "      <th>2</th>\n",
              "      <td>Datsun 710</td>\n",
              "      <td>22.8</td>\n",
              "      <td>4</td>\n",
              "      <td>108.0</td>\n",
              "      <td>93</td>\n",
              "      <td>3.85</td>\n",
              "      <td>2.320</td>\n",
              "      <td>18.61</td>\n",
              "      <td>1</td>\n",
              "      <td>1</td>\n",
              "      <td>4</td>\n",
              "      <td>1</td>\n",
              "    </tr>\n",
              "    <tr>\n",
              "      <th>3</th>\n",
              "      <td>Hornet 4 Drive</td>\n",
              "      <td>21.4</td>\n",
              "      <td>6</td>\n",
              "      <td>258.0</td>\n",
              "      <td>110</td>\n",
              "      <td>3.08</td>\n",
              "      <td>3.215</td>\n",
              "      <td>19.44</td>\n",
              "      <td>1</td>\n",
              "      <td>0</td>\n",
              "      <td>3</td>\n",
              "      <td>1</td>\n",
              "    </tr>\n",
              "    <tr>\n",
              "      <th>4</th>\n",
              "      <td>Hornet Sportabout</td>\n",
              "      <td>18.7</td>\n",
              "      <td>8</td>\n",
              "      <td>360.0</td>\n",
              "      <td>175</td>\n",
              "      <td>3.15</td>\n",
              "      <td>3.440</td>\n",
              "      <td>17.02</td>\n",
              "      <td>0</td>\n",
              "      <td>0</td>\n",
              "      <td>3</td>\n",
              "      <td>2</td>\n",
              "    </tr>\n",
              "  </tbody>\n",
              "</table>\n",
              "</div>\n",
              "      <button class=\"colab-df-convert\" onclick=\"convertToInteractive('df-12994827-e48b-4dc4-adbe-ccf29d0d7c10')\"\n",
              "              title=\"Convert this dataframe to an interactive table.\"\n",
              "              style=\"display:none;\">\n",
              "        \n",
              "  <svg xmlns=\"http://www.w3.org/2000/svg\" height=\"24px\"viewBox=\"0 0 24 24\"\n",
              "       width=\"24px\">\n",
              "    <path d=\"M0 0h24v24H0V0z\" fill=\"none\"/>\n",
              "    <path d=\"M18.56 5.44l.94 2.06.94-2.06 2.06-.94-2.06-.94-.94-2.06-.94 2.06-2.06.94zm-11 1L8.5 8.5l.94-2.06 2.06-.94-2.06-.94L8.5 2.5l-.94 2.06-2.06.94zm10 10l.94 2.06.94-2.06 2.06-.94-2.06-.94-.94-2.06-.94 2.06-2.06.94z\"/><path d=\"M17.41 7.96l-1.37-1.37c-.4-.4-.92-.59-1.43-.59-.52 0-1.04.2-1.43.59L10.3 9.45l-7.72 7.72c-.78.78-.78 2.05 0 2.83L4 21.41c.39.39.9.59 1.41.59.51 0 1.02-.2 1.41-.59l7.78-7.78 2.81-2.81c.8-.78.8-2.07 0-2.86zM5.41 20L4 18.59l7.72-7.72 1.47 1.35L5.41 20z\"/>\n",
              "  </svg>\n",
              "      </button>\n",
              "      \n",
              "  <style>\n",
              "    .colab-df-container {\n",
              "      display:flex;\n",
              "      flex-wrap:wrap;\n",
              "      gap: 12px;\n",
              "    }\n",
              "\n",
              "    .colab-df-convert {\n",
              "      background-color: #E8F0FE;\n",
              "      border: none;\n",
              "      border-radius: 50%;\n",
              "      cursor: pointer;\n",
              "      display: none;\n",
              "      fill: #1967D2;\n",
              "      height: 32px;\n",
              "      padding: 0 0 0 0;\n",
              "      width: 32px;\n",
              "    }\n",
              "\n",
              "    .colab-df-convert:hover {\n",
              "      background-color: #E2EBFA;\n",
              "      box-shadow: 0px 1px 2px rgba(60, 64, 67, 0.3), 0px 1px 3px 1px rgba(60, 64, 67, 0.15);\n",
              "      fill: #174EA6;\n",
              "    }\n",
              "\n",
              "    [theme=dark] .colab-df-convert {\n",
              "      background-color: #3B4455;\n",
              "      fill: #D2E3FC;\n",
              "    }\n",
              "\n",
              "    [theme=dark] .colab-df-convert:hover {\n",
              "      background-color: #434B5C;\n",
              "      box-shadow: 0px 1px 3px 1px rgba(0, 0, 0, 0.15);\n",
              "      filter: drop-shadow(0px 1px 2px rgba(0, 0, 0, 0.3));\n",
              "      fill: #FFFFFF;\n",
              "    }\n",
              "  </style>\n",
              "\n",
              "      <script>\n",
              "        const buttonEl =\n",
              "          document.querySelector('#df-12994827-e48b-4dc4-adbe-ccf29d0d7c10 button.colab-df-convert');\n",
              "        buttonEl.style.display =\n",
              "          google.colab.kernel.accessAllowed ? 'block' : 'none';\n",
              "\n",
              "        async function convertToInteractive(key) {\n",
              "          const element = document.querySelector('#df-12994827-e48b-4dc4-adbe-ccf29d0d7c10');\n",
              "          const dataTable =\n",
              "            await google.colab.kernel.invokeFunction('convertToInteractive',\n",
              "                                                     [key], {});\n",
              "          if (!dataTable) return;\n",
              "\n",
              "          const docLinkHtml = 'Like what you see? Visit the ' +\n",
              "            '<a target=\"_blank\" href=https://colab.research.google.com/notebooks/data_table.ipynb>data table notebook</a>'\n",
              "            + ' to learn more about interactive tables.';\n",
              "          element.innerHTML = '';\n",
              "          dataTable['output_type'] = 'display_data';\n",
              "          await google.colab.output.renderOutput(dataTable, element);\n",
              "          const docLink = document.createElement('div');\n",
              "          docLink.innerHTML = docLinkHtml;\n",
              "          element.appendChild(docLink);\n",
              "        }\n",
              "      </script>\n",
              "    </div>\n",
              "  </div>\n",
              "  "
            ]
          },
          "metadata": {},
          "execution_count": 150
        }
      ],
      "source": [
        "#displaying dataset\n",
        "mtcars.head()"
      ]
    },
    {
      "cell_type": "code",
      "execution_count": 151,
      "id": "1a9d2591",
      "metadata": {
        "colab": {
          "base_uri": "https://localhost:8080/"
        },
        "id": "1a9d2591",
        "outputId": "fc6c3df4-9313-4a85-a28e-f605ccd6e208"
      },
      "outputs": [
        {
          "output_type": "execute_result",
          "data": {
            "text/plain": [
              "model    0\n",
              "mpg      0\n",
              "cyl      0\n",
              "disp     0\n",
              "hp       0\n",
              "drat     0\n",
              "wt       0\n",
              "qsec     0\n",
              "vs       0\n",
              "am       0\n",
              "gear     0\n",
              "carb     0\n",
              "dtype: int64"
            ]
          },
          "metadata": {},
          "execution_count": 151
        }
      ],
      "source": [
        "#To check for null values\n",
        "mtcars.isnull().sum()"
      ]
    },
    {
      "cell_type": "code",
      "execution_count": 152,
      "id": "8b1773ae",
      "metadata": {
        "colab": {
          "base_uri": "https://localhost:8080/",
          "height": 301
        },
        "id": "8b1773ae",
        "outputId": "d518c219-0acd-4f7d-bf85-0557d8b38e23"
      },
      "outputs": [
        {
          "output_type": "execute_result",
          "data": {
            "text/plain": [
              "<matplotlib.axes._subplots.AxesSubplot at 0x7f797ed8d310>"
            ]
          },
          "metadata": {},
          "execution_count": 152
        },
        {
          "output_type": "display_data",
          "data": {
            "text/plain": [
              "<Figure size 432x288 with 1 Axes>"
            ],
            "image/png": "[encoded data removed]"
          },
          "metadata": {
            "needs_background": "light"
          }
        }
      ],
      "source": [
        "#Plotting the scatterplot to check for linear relationship\n",
        "sns.scatterplot(x='wt',y='mpg',data=mtcars)"
      ]
    },
    {
      "cell_type": "markdown",
      "id": "c771f330",
      "metadata": {
        "id": "c771f330"
      },
      "source": [
        "Q6. Write a user defined function ‘myFnLinReg(x,y)’ to perform Simple Linear \n",
        "Regression given one predictor attribute and one response attribute. The \n",
        "function should return the coefficients of the straight line."
      ]
    },
    {
      "cell_type": "markdown",
      "id": "ce3fadb6",
      "metadata": {
        "id": "ce3fadb6"
      },
      "source": [
        "Inference: The plot looks fairly linear , hence a linear regression could fit well for both these variables    "
      ]
    },
    {
      "cell_type": "code",
      "execution_count": 153,
      "id": "1c3a1677",
      "metadata": {
        "id": "1c3a1677"
      },
      "outputs": [],
      "source": [
        "#defining a Simple Linear Regression Function\n",
        "def myFnLinReg(x,y):\n",
        "    n=len(x)\n",
        "    mean_x=x.mean()\n",
        "    mean_y=y.mean()\n",
        "    \n",
        "    #Coefficient term\n",
        "    A1_numerator=((x-mean_x)*(y-mean_y)).sum()\n",
        "    A1_denominator=((x - mean_x)**2).sum()\n",
        "    A1=A1_numerator/A1_denominator\n",
        "    \n",
        "    #Intercept term\n",
        "    A0=mean_y - (mean_x*A1)\n",
        "      \n",
        "    reg = 'y = {} + {}β'.format(A0, round(A1, 4))\n",
        "    \n",
        "    return (A0, A1, reg)  #This function returns the intercept ,coefficient of independent varible and the regression model"
      ]
    },
    {
      "cell_type": "code",
      "execution_count": 154,
      "id": "d50d61f2",
      "metadata": {
        "id": "d50d61f2"
      },
      "outputs": [],
      "source": [
        "#creating separate dataframes for predictor and output variables\n",
        "X=mtcars['wt']\n",
        "Y=mtcars['mpg']"
      ]
    },
    {
      "cell_type": "code",
      "execution_count": 155,
      "id": "7a2d750b",
      "metadata": {
        "colab": {
          "base_uri": "https://localhost:8080/",
          "height": 121
        },
        "id": "7a2d750b",
        "outputId": "3b0a544e-043a-4746-8803-a7e19f8d928b"
      },
      "outputs": [
        {
          "output_type": "display_data",
          "data": {
            "text/plain": [
              "0    2.620\n",
              "1    2.875\n",
              "2    2.320\n",
              "3    3.215\n",
              "4    3.440\n",
              "Name: wt, dtype: float64"
            ]
          },
          "metadata": {}
        }
      ],
      "source": [
        "display(X.head())"
      ]
    },
    {
      "cell_type": "code",
      "source": [
        "display(Y.head())"
      ],
      "metadata": {
        "colab": {
          "base_uri": "https://localhost:8080/",
          "height": 121
        },
        "id": "rIGKyxcoZmF9",
        "outputId": "2d9488ed-28d8-4259-edc2-897cc47b1586"
      },
      "id": "rIGKyxcoZmF9",
      "execution_count": 156,
      "outputs": [
        {
          "output_type": "display_data",
          "data": {
            "text/plain": [
              "0    21.0\n",
              "1    21.0\n",
              "2    22.8\n",
              "3    21.4\n",
              "4    18.7\n",
              "Name: mpg, dtype: float64"
            ]
          },
          "metadata": {}
        }
      ]
    },
    {
      "cell_type": "markdown",
      "id": "0e4eb73b",
      "metadata": {
        "id": "0e4eb73b"
      },
      "source": [
        "Q7. Use mtcars data set and consider the attributes mpg and weight. Split data into \n",
        "train and test sets (70 %,30%). Put training data set to ‘myFnLinReg(x,y)’ to \n",
        "build a linear regression model to predict mpg given the weight of the car."
      ]
    },
    {
      "cell_type": "code",
      "source": [
        "#Plotting weight and mpg of car against each other\n",
        "mtcars.plot(kind = 'scatter', x = 'wt', y = 'mpg')\n",
        "plt.show()"
      ],
      "metadata": {
        "colab": {
          "base_uri": "https://localhost:8080/",
          "height": 283
        },
        "id": "QxGLLhcdOwxF",
        "outputId": "d65b2a07-4bb8-4b71-e4dd-ab5f22d0178d"
      },
      "id": "QxGLLhcdOwxF",
      "execution_count": 157,
      "outputs": [
        {
          "output_type": "display_data",
          "data": {
            "text/plain": [
              "<Figure size 432x288 with 1 Axes>"
            ],
            "image/png": "[encoded data removed]"
          },
          "metadata": {
            "needs_background": "light"
          }
        }
      ]
    },
    {
      "cell_type": "code",
      "source": [
        "#splitting the dataset\n",
        "n_train = math.floor(0.7 * X.shape[0])\n",
        "n_test = math.ceil(0.3 * X.shape[0])\n",
        "X_train = X[:n_train]\n",
        "y_train = Y[:n_train]\n",
        "X_test = X[n_train:]\n",
        "y_test = Y[n_train:]\n",
        "print(\"Total Number of rows in train:\",X_train.shape[0])\n",
        "print(\"Total Number of rows in test:\",X_test.shape[0])"
      ],
      "metadata": {
        "colab": {
          "base_uri": "https://localhost:8080/"
        },
        "id": "I5_w0e3Xa29Y",
        "outputId": "3be30d4b-8051-4843-b4bd-f872b49d9169"
      },
      "id": "I5_w0e3Xa29Y",
      "execution_count": 158,
      "outputs": [
        {
          "output_type": "stream",
          "name": "stdout",
          "text": [
            "Total Number of rows in train: 22\n",
            "Total Number of rows in test: 10\n"
          ]
        }
      ]
    },
    {
      "cell_type": "code",
      "source": [
        "print(\"X:\")\n",
        "print(X)\n",
        "print(\"Y:\")\n",
        "print(Y)"
      ],
      "metadata": {
        "colab": {
          "base_uri": "https://localhost:8080/"
        },
        "id": "3h_DzMjUbQFm",
        "outputId": "94afed27-056c-4124-914e-a941b8d3eaa4"
      },
      "id": "3h_DzMjUbQFm",
      "execution_count": 159,
      "outputs": [
        {
          "output_type": "stream",
          "name": "stdout",
          "text": [
            "X:\n",
            "0     2.620\n",
            "1     2.875\n",
            "2     2.320\n",
            "3     3.215\n",
            "4     3.440\n",
            "5     3.460\n",
            "6     3.570\n",
            "7     3.190\n",
            "8     3.150\n",
            "9     3.440\n",
            "10    3.440\n",
            "11    4.070\n",
            "12    3.730\n",
            "13    3.780\n",
            "14    5.250\n",
            "15    5.424\n",
            "16    5.345\n",
            "17    2.200\n",
            "18    1.615\n",
            "19    1.835\n",
            "20    2.465\n",
            "21    3.520\n",
            "22    3.435\n",
            "23    3.840\n",
            "24    3.845\n",
            "25    1.935\n",
            "26    2.140\n",
            "27    1.513\n",
            "28    3.170\n",
            "29    2.770\n",
            "30    3.570\n",
            "31    2.780\n",
            "Name: wt, dtype: float64\n",
            "Y:\n",
            "0     21.0\n",
            "1     21.0\n",
            "2     22.8\n",
            "3     21.4\n",
            "4     18.7\n",
            "5     18.1\n",
            "6     14.3\n",
            "7     24.4\n",
            "8     22.8\n",
            "9     19.2\n",
            "10    17.8\n",
            "11    16.4\n",
            "12    17.3\n",
            "13    15.2\n",
            "14    10.4\n",
            "15    10.4\n",
            "16    14.7\n",
            "17    32.4\n",
            "18    30.4\n",
            "19    33.9\n",
            "20    21.5\n",
            "21    15.5\n",
            "22    15.2\n",
            "23    13.3\n",
            "24    19.2\n",
            "25    27.3\n",
            "26    26.0\n",
            "27    30.4\n",
            "28    15.8\n",
            "29    19.7\n",
            "30    15.0\n",
            "31    21.4\n",
            "Name: mpg, dtype: float64\n"
          ]
        }
      ]
    },
    {
      "cell_type": "code",
      "source": [
        "print(\"X_train:\")\n",
        "print(X_train)\n",
        "print(\"\\ny_train:\")\n",
        "print(y_train)\n",
        "print(\"\\nX_test\")\n",
        "print(X_test)\n",
        "print(\"\\ny_test\")\n",
        "print(y_test)"
      ],
      "metadata": {
        "colab": {
          "base_uri": "https://localhost:8080/"
        },
        "id": "e-EeRcqVbZkV",
        "outputId": "b9c8b878-64ef-4f17-eb66-2f0fef6d80e8"
      },
      "id": "e-EeRcqVbZkV",
      "execution_count": 160,
      "outputs": [
        {
          "output_type": "stream",
          "name": "stdout",
          "text": [
            "X_train:\n",
            "0     2.620\n",
            "1     2.875\n",
            "2     2.320\n",
            "3     3.215\n",
            "4     3.440\n",
            "5     3.460\n",
            "6     3.570\n",
            "7     3.190\n",
            "8     3.150\n",
            "9     3.440\n",
            "10    3.440\n",
            "11    4.070\n",
            "12    3.730\n",
            "13    3.780\n",
            "14    5.250\n",
            "15    5.424\n",
            "16    5.345\n",
            "17    2.200\n",
            "18    1.615\n",
            "19    1.835\n",
            "20    2.465\n",
            "21    3.520\n",
            "Name: wt, dtype: float64\n",
            "\n",
            "y_train:\n",
            "0     21.0\n",
            "1     21.0\n",
            "2     22.8\n",
            "3     21.4\n",
            "4     18.7\n",
            "5     18.1\n",
            "6     14.3\n",
            "7     24.4\n",
            "8     22.8\n",
            "9     19.2\n",
            "10    17.8\n",
            "11    16.4\n",
            "12    17.3\n",
            "13    15.2\n",
            "14    10.4\n",
            "15    10.4\n",
            "16    14.7\n",
            "17    32.4\n",
            "18    30.4\n",
            "19    33.9\n",
            "20    21.5\n",
            "21    15.5\n",
            "Name: mpg, dtype: float64\n",
            "\n",
            "X_test\n",
            "22    3.435\n",
            "23    3.840\n",
            "24    3.845\n",
            "25    1.935\n",
            "26    2.140\n",
            "27    1.513\n",
            "28    3.170\n",
            "29    2.770\n",
            "30    3.570\n",
            "31    2.780\n",
            "Name: wt, dtype: float64\n",
            "\n",
            "y_test\n",
            "22    15.2\n",
            "23    13.3\n",
            "24    19.2\n",
            "25    27.3\n",
            "26    26.0\n",
            "27    30.4\n",
            "28    15.8\n",
            "29    19.7\n",
            "30    15.0\n",
            "31    21.4\n",
            "Name: mpg, dtype: float64\n"
          ]
        }
      ]
    },
    {
      "cell_type": "code",
      "execution_count": 161,
      "id": "31570643",
      "metadata": {
        "id": "31570643"
      },
      "outputs": [],
      "source": [
        "#training the model\n",
        "A0, A1, reg = myFnLinReg(X_train, y_train)"
      ]
    },
    {
      "cell_type": "code",
      "execution_count": 162,
      "id": "34774bf3",
      "metadata": {
        "colab": {
          "base_uri": "https://localhost:8080/"
        },
        "id": "34774bf3",
        "outputId": "8b9fadc8-a6bb-4736-b6e5-ceef5eb30656"
      },
      "outputs": [
        {
          "output_type": "execute_result",
          "data": {
            "text/plain": [
              "(37.76418744030761, -5.2899386603397724)"
            ]
          },
          "metadata": {},
          "execution_count": 162
        }
      ],
      "source": [
        "#coefficients values\n",
        "A0,A1"
      ]
    },
    {
      "cell_type": "code",
      "execution_count": 163,
      "id": "85a930eb",
      "metadata": {
        "colab": {
          "base_uri": "https://localhost:8080/",
          "height": 35
        },
        "id": "85a930eb",
        "outputId": "8ccb4947-2c52-4a16-a06e-d14927bbb45a"
      },
      "outputs": [
        {
          "output_type": "execute_result",
          "data": {
            "text/plain": [
              "'y = 37.76418744030761 + -5.2899β'"
            ],
            "application/vnd.google.colaboratory.intrinsic+json": {
              "type": "string"
            }
          },
          "metadata": {},
          "execution_count": 163
        }
      ],
      "source": [
        "#regression model\n",
        "reg"
      ]
    },
    {
      "cell_type": "markdown",
      "id": "76b8dc92",
      "metadata": {
        "id": "76b8dc92"
      },
      "source": [
        "Q8. What is the mpg of a car, whose weight is 6.7?\n"
      ]
    },
    {
      "cell_type": "code",
      "execution_count": 164,
      "id": "084690b3",
      "metadata": {
        "colab": {
          "base_uri": "https://localhost:8080/"
        },
        "id": "084690b3",
        "outputId": "f32ab7c5-2102-47a0-e180-02e5cef723c0"
      },
      "outputs": [
        {
          "output_type": "execute_result",
          "data": {
            "text/plain": [
              "2.3215984160311294"
            ]
          },
          "metadata": {},
          "execution_count": 164
        }
      ],
      "source": [
        "ex_x_instance=6.7\n",
        "pred_y_instance=A0 + A1*ex_x_instance\n",
        "pred_y_instance"
      ]
    },
    {
      "cell_type": "code",
      "execution_count": 165,
      "id": "8eb6d211",
      "metadata": {
        "colab": {
          "base_uri": "https://localhost:8080/"
        },
        "id": "8eb6d211",
        "outputId": "bbf7cfc7-faee-40ed-d19f-74064ec40324"
      },
      "outputs": [
        {
          "output_type": "execute_result",
          "data": {
            "text/plain": [
              "32"
            ]
          },
          "metadata": {},
          "execution_count": 165
        }
      ],
      "source": [
        "N=len(X)\n",
        "N"
      ]
    },
    {
      "cell_type": "markdown",
      "id": "7168ab02",
      "metadata": {
        "id": "7168ab02"
      },
      "source": [
        "Q9.Compute and print accuracy measures such as RMSE and R2 for the test set"
      ]
    },
    {
      "cell_type": "code",
      "execution_count": 166,
      "id": "38bff8e6",
      "metadata": {
        "colab": {
          "base_uri": "https://localhost:8080/"
        },
        "id": "38bff8e6",
        "outputId": "89f06ba2-49c8-4ba2-91ce-d11d2059c5e0"
      },
      "outputs": [
        {
          "output_type": "stream",
          "name": "stdout",
          "text": [
            "R-squared: \n",
            "0.7405807200976333\n"
          ]
        }
      ],
      "source": [
        "# Calculating R-squared value \n",
        "\n",
        "ss_t = 0 #total sum of squares\n",
        "ss_r = 0 #total sum of square of residuals\n",
        "\n",
        "mean_y=Y.mean()\n",
        "\n",
        "for i in range(N): # val_count represents the no.of input x values\n",
        "  y_pred = A0 + A1 * X[i]\n",
        "  ss_t += (Y[i] - mean_y) ** 2\n",
        "  ss_r += (Y[i] - y_pred) ** 2\n",
        "r2 = 1 - (ss_r/ss_t)\n",
        "print(\"R-squared: \")\n",
        "print(r2)"
      ]
    },
    {
      "cell_type": "code",
      "execution_count": 167,
      "id": "80d536de",
      "metadata": {
        "colab": {
          "base_uri": "https://localhost:8080/"
        },
        "id": "80d536de",
        "outputId": "463b38a5-637f-4d87-fc1c-9459422abc85"
      },
      "outputs": [
        {
          "output_type": "stream",
          "name": "stdout",
          "text": [
            "Root mean square error: \n",
            "3.021373603787974\n"
          ]
        }
      ],
      "source": [
        "# Calculating Root Mean Squares Error\n",
        "rmse = 0\n",
        "for i in range(N):\n",
        "    y_pred = A0 + A1 * X[i]\n",
        "    rmse += (Y[i] - y_pred) ** 2\n",
        "rmse = np.sqrt(rmse/N)\n",
        "print(\"Root mean square error: \")\n",
        "print(rmse)"
      ]
    },
    {
      "cell_type": "markdown",
      "id": "86830e2a",
      "metadata": {
        "id": "86830e2a"
      },
      "source": [
        "Q10.Apply the stochastic gradient descent and mini batch gradient descent \n",
        "algorithms to enhance the accuracy and visualize the cost function."
      ]
    },
    {
      "cell_type": "markdown",
      "source": [
        "STOCHASTIC GRADIENT DESCENT"
      ],
      "metadata": {
        "id": "-lz5qEx7Lual"
      },
      "id": "-lz5qEx7Lual"
    },
    {
      "cell_type": "code",
      "source": [
        "from sklearn import preprocessing\n",
        "sx = preprocessing.MinMaxScaler()   # object for x \n",
        "sy = preprocessing.MinMaxScaler()\n",
        "\n",
        "# df.shape[0] gives the no. of samples in the dataset\n",
        "scaled_x = sx.fit_transform(mtcars['wt'].values.reshape(mtcars.shape[0],1))\n",
        "scaled_y = sy.fit_transform(mtcars['mpg'].values.reshape(mtcars.shape[0],1))"
      ],
      "metadata": {
        "id": "uuGGOsvLcwL7"
      },
      "id": "uuGGOsvLcwL7",
      "execution_count": 168,
      "outputs": []
    },
    {
      "cell_type": "code",
      "source": [
        "scaled_x"
      ],
      "metadata": {
        "colab": {
          "base_uri": "https://localhost:8080/"
        },
        "id": "njvrJziRdMtz",
        "outputId": "365980a2-f25f-426d-8988-57cfebe4a49a"
      },
      "id": "njvrJziRdMtz",
      "execution_count": 169,
      "outputs": [
        {
          "output_type": "execute_result",
          "data": {
            "text/plain": [
              "array([[0.28304781],\n",
              "       [0.34824853],\n",
              "       [0.20634109],\n",
              "       [0.43518282],\n",
              "       [0.49271286],\n",
              "       [0.49782664],\n",
              "       [0.52595244],\n",
              "       [0.42879059],\n",
              "       [0.41856303],\n",
              "       [0.49271286],\n",
              "       [0.49271286],\n",
              "       [0.65379698],\n",
              "       [0.56686269],\n",
              "       [0.57964715],\n",
              "       [0.9555101 ],\n",
              "       [1.        ],\n",
              "       [0.97980056],\n",
              "       [0.1756584 ],\n",
              "       [0.02608029],\n",
              "       [0.08233188],\n",
              "       [0.24341601],\n",
              "       [0.51316799],\n",
              "       [0.49143442],\n",
              "       [0.59498849],\n",
              "       [0.59626694],\n",
              "       [0.10790079],\n",
              "       [0.16031705],\n",
              "       [0.        ],\n",
              "       [0.42367681],\n",
              "       [0.32140118],\n",
              "       [0.52595244],\n",
              "       [0.32395807]])"
            ]
          },
          "metadata": {},
          "execution_count": 169
        }
      ]
    },
    {
      "cell_type": "code",
      "source": [
        "scaled_y"
      ],
      "metadata": {
        "colab": {
          "base_uri": "https://localhost:8080/"
        },
        "id": "gcBeyMH2dOQr",
        "outputId": "9d1f13c6-a068-41f4-f249-9e0a6bdde288"
      },
      "id": "gcBeyMH2dOQr",
      "execution_count": 170,
      "outputs": [
        {
          "output_type": "execute_result",
          "data": {
            "text/plain": [
              "array([[0.45106383],\n",
              "       [0.45106383],\n",
              "       [0.52765957],\n",
              "       [0.46808511],\n",
              "       [0.35319149],\n",
              "       [0.32765957],\n",
              "       [0.16595745],\n",
              "       [0.59574468],\n",
              "       [0.52765957],\n",
              "       [0.37446809],\n",
              "       [0.31489362],\n",
              "       [0.25531915],\n",
              "       [0.29361702],\n",
              "       [0.20425532],\n",
              "       [0.        ],\n",
              "       [0.        ],\n",
              "       [0.18297872],\n",
              "       [0.93617021],\n",
              "       [0.85106383],\n",
              "       [1.        ],\n",
              "       [0.47234043],\n",
              "       [0.21702128],\n",
              "       [0.20425532],\n",
              "       [0.12340426],\n",
              "       [0.37446809],\n",
              "       [0.71914894],\n",
              "       [0.66382979],\n",
              "       [0.85106383],\n",
              "       [0.22978723],\n",
              "       [0.39574468],\n",
              "       [0.19574468],\n",
              "       [0.46808511]])"
            ]
          },
          "metadata": {},
          "execution_count": 170
        }
      ]
    },
    {
      "cell_type": "code",
      "source": [
        "scaled_y.shape"
      ],
      "metadata": {
        "colab": {
          "base_uri": "https://localhost:8080/"
        },
        "id": "yEYjI6cSdRT-",
        "outputId": "6ec1a6ca-5fd9-421a-b21a-b70ba0b85828"
      },
      "id": "yEYjI6cSdRT-",
      "execution_count": 171,
      "outputs": [
        {
          "output_type": "execute_result",
          "data": {
            "text/plain": [
              "(32, 1)"
            ]
          },
          "metadata": {},
          "execution_count": 171
        }
      ]
    },
    {
      "cell_type": "code",
      "source": [
        "scaled_y.reshape(32,)"
      ],
      "metadata": {
        "colab": {
          "base_uri": "https://localhost:8080/"
        },
        "id": "j0tRSyBMdUXv",
        "outputId": "64d95032-0ce2-4a6f-e4b5-1b311d1de7b0"
      },
      "id": "j0tRSyBMdUXv",
      "execution_count": 172,
      "outputs": [
        {
          "output_type": "execute_result",
          "data": {
            "text/plain": [
              "array([0.45106383, 0.45106383, 0.52765957, 0.46808511, 0.35319149,\n",
              "       0.32765957, 0.16595745, 0.59574468, 0.52765957, 0.37446809,\n",
              "       0.31489362, 0.25531915, 0.29361702, 0.20425532, 0.        ,\n",
              "       0.        , 0.18297872, 0.93617021, 0.85106383, 1.        ,\n",
              "       0.47234043, 0.21702128, 0.20425532, 0.12340426, 0.37446809,\n",
              "       0.71914894, 0.66382979, 0.85106383, 0.22978723, 0.39574468,\n",
              "       0.19574468, 0.46808511])"
            ]
          },
          "metadata": {},
          "execution_count": 172
        }
      ]
    },
    {
      "cell_type": "code",
      "source": [
        "import random "
      ],
      "metadata": {
        "id": "p_KMk2vmdYcZ"
      },
      "id": "p_KMk2vmdYcZ",
      "execution_count": 173,
      "outputs": []
    },
    {
      "cell_type": "code",
      "execution_count": 174,
      "id": "29c577c5",
      "metadata": {
        "id": "29c577c5",
        "colab": {
          "base_uri": "https://localhost:8080/"
        },
        "outputId": "89f6db43-5cfb-46bb-bea9-51248f94136b"
      },
      "outputs": [
        {
          "output_type": "execute_result",
          "data": {
            "text/plain": [
              "(array([-0.81471978]), 0.7756416796508578, 0.09279469872348908)"
            ]
          },
          "metadata": {},
          "execution_count": 174
        }
      ],
      "source": [
        "#defining stochastic_gradient_descent function\n",
        "def stochastic_gradient_descent(X, y_true, epochs, learning_rate = 0.05):\n",
        " \n",
        "    number_of_features = X.shape[1]\n",
        "    \n",
        "    \n",
        "    w = np.ones(shape=(number_of_features)) \n",
        "    b = 0   # bias is 0\n",
        "    total_samples = X.shape[0]\n",
        "    \n",
        "    cost_list = []\n",
        "    epoch_list = []\n",
        "    \n",
        "    for i in range(epochs):    \n",
        "        random_index = random.randint(0,total_samples-1) # random index from total samples\n",
        "        \n",
        "        # selecting the random sample\n",
        "        \n",
        "        sample_x = X[random_index]\n",
        "        sample_y = y_true[random_index]\n",
        "        \n",
        "        y_predicted = np.dot(w, sample_x.T) + b\n",
        "    \n",
        "        w_grad = -(2/total_samples)*(sample_x.T.dot(sample_y-y_predicted))\n",
        "        b_grad = -(2/total_samples)*(sample_y-y_predicted)\n",
        "        \n",
        "        w = w - learning_rate * w_grad\n",
        "        b = b - learning_rate * b_grad\n",
        "        \n",
        "        cost = np.square(sample_y-y_predicted)\n",
        "        \n",
        "        if i%100==0:\n",
        "            cost_list.append(cost)\n",
        "            epoch_list.append(i)\n",
        "        \n",
        "    return w, b, cost, cost_list, epoch_list\n",
        "\n",
        "w_sgd, b_sgd, cost_sgd, cost_list_sgd, epoch_list_sgd = stochastic_gradient_descent(scaled_x,scaled_y.reshape(scaled_y.shape[0],),20000)\n",
        "w_sgd, b_sgd, cost_sgd"
      ]
    },
    {
      "cell_type": "code",
      "source": [
        "def predict(weight,w,b):\n",
        "    scaled_X = sx.transform([[weight]])[0]\n",
        "    # here w1 = w[0] , w2 = w[1] and bias is b\n",
        "    # equation for mpg is w1*wt + bias\n",
        "    # scaled_X[0] is weight\n",
        "\n",
        "    scaled_mpg = w[0] * scaled_X[0]+ b\n",
        "    # once we get mpg prediction we need to to rescale it back to original value\n",
        "    # also since it returns 2D array, to get single value we need to do value[0][0]\n",
        "    return sy.inverse_transform([[scaled_mpg]])[0][0] "
      ],
      "metadata": {
        "id": "tKqhB8kdegOd"
      },
      "id": "tKqhB8kdegOd",
      "execution_count": 175,
      "outputs": []
    },
    {
      "cell_type": "code",
      "source": [
        "predict(6.7,w_sgd, b_sgd) "
      ],
      "metadata": {
        "colab": {
          "base_uri": "https://localhost:8080/"
        },
        "id": "Ob4-ISOLDpHl",
        "outputId": "7f8f2858-053d-4c08-a682-18734b3ef24a"
      },
      "id": "Ob4-ISOLDpHl",
      "execution_count": 176,
      "outputs": [
        {
          "output_type": "execute_result",
          "data": {
            "text/plain": [
              "3.2351325018497836"
            ]
          },
          "metadata": {},
          "execution_count": 176
        }
      ]
    },
    {
      "cell_type": "code",
      "source": [
        "#cost_list_sgd,epoch_list_sgd"
      ],
      "metadata": {
        "id": "qvAT1XOdehb0"
      },
      "id": "qvAT1XOdehb0",
      "execution_count": 177,
      "outputs": []
    },
    {
      "cell_type": "code",
      "source": [
        "plt.xlabel(\"epoch\")\n",
        "plt.ylabel(\"cost\")\n",
        "plt.plot(epoch_list_sgd,cost_list_sgd)"
      ],
      "metadata": {
        "id": "DuD1aTS46R11",
        "colab": {
          "base_uri": "https://localhost:8080/",
          "height": 297
        },
        "outputId": "4f161182-5561-4da1-c6a5-088ed40debf0"
      },
      "id": "DuD1aTS46R11",
      "execution_count": 178,
      "outputs": [
        {
          "output_type": "execute_result",
          "data": {
            "text/plain": [
              "[<matplotlib.lines.Line2D at 0x7f797ecb1b90>]"
            ]
          },
          "metadata": {},
          "execution_count": 178
        },
        {
          "output_type": "display_data",
          "data": {
            "text/plain": [
              "<Figure size 432x288 with 1 Axes>"
            ],
            "image/png": "[encoded data removed]"
          },
          "metadata": {
            "needs_background": "light"
          }
        }
      ]
    },
    {
      "cell_type": "markdown",
      "source": [
        "MINI-BATCH GRADIENT DESCENT"
      ],
      "metadata": {
        "id": "AikBRLciJwIK"
      },
      "id": "AikBRLciJwIK"
    },
    {
      "cell_type": "code",
      "source": [
        "def mini_batch_gradient_descent(X, y_true, epochs = 100, batch_size = 5, learning_rate = 0.04):\n",
        "    \n",
        "    number_of_features = X.shape[1]\n",
        "    # numpy array with 1 row and columns equal to number of features.\n",
        "    w = np.ones(shape=(number_of_features)) \n",
        "    b = 0\n",
        "    total_samples = X.shape[0] # number of rows in X\n",
        "    \n",
        "    if batch_size > total_samples: # In this case mini batch becomes same as batch gradient descent\n",
        "        batch_size = total_samples\n",
        "        \n",
        "    cost_list = []\n",
        "    epoch_list = []\n",
        "    \n",
        "    num_batches = int(total_samples/batch_size)\n",
        "    \n",
        "    for i in range(epochs):    \n",
        "        random_indices = np.random.permutation(total_samples)\n",
        "        X_tmp = X[random_indices]\n",
        "        y_tmp = y_true[random_indices]\n",
        "        \n",
        "        for j in range(0,total_samples,batch_size):\n",
        "            Xj = X_tmp[j:j+batch_size]\n",
        "            yj = y_tmp[j:j+batch_size]\n",
        "            y_predicted = np.dot(w, Xj.T) + b\n",
        "            \n",
        "            w_grad = -(2/len(Xj))*(Xj.T.dot(yj-y_predicted))\n",
        "            b_grad = -(2/len(Xj))*np.sum(yj-y_predicted)\n",
        "            \n",
        "            w = w - learning_rate * w_grad\n",
        "            b = b - learning_rate * b_grad\n",
        "                \n",
        "            cost = np.mean(np.square(yj-y_predicted)) # MSE (Mean Squared Error)\n",
        "        \n",
        "        if i%10==0:\n",
        "            cost_list.append(cost)\n",
        "            epoch_list.append(i)\n",
        "        \n",
        "    return w, b, cost, cost_list, epoch_list\n",
        "\n",
        "w, b, cost, cost_list, epoch_list = mini_batch_gradient_descent(\n",
        "    scaled_x,\n",
        "    scaled_y.reshape(scaled_y.shape[0],),\n",
        "    epochs = 120,\n",
        "    batch_size = 5\n",
        ")\n",
        "w, b, cost"
      ],
      "metadata": {
        "colab": {
          "base_uri": "https://localhost:8080/"
        },
        "id": "wi9hVI1ddw49",
        "outputId": "28528310-c621-4aa3-922c-9d5202ab3353"
      },
      "id": "wi9hVI1ddw49",
      "execution_count": 179,
      "outputs": [
        {
          "output_type": "execute_result",
          "data": {
            "text/plain": [
              "(array([-0.8329361]), 0.7721660271531772, 0.004356408971486171)"
            ]
          },
          "metadata": {},
          "execution_count": 179
        }
      ]
    },
    {
      "cell_type": "code",
      "source": [
        "cost_list, epoch_list"
      ],
      "metadata": {
        "colab": {
          "base_uri": "https://localhost:8080/"
        },
        "id": "2r1IIiwddys3",
        "outputId": "db8c83e7-27ba-4a35-b3d5-ea7328ffda5c"
      },
      "id": "2r1IIiwddys3",
      "execution_count": 180,
      "outputs": [
        {
          "output_type": "execute_result",
          "data": {
            "text/plain": [
              "([0.07969084054808506,\n",
              "  0.26963544117658667,\n",
              "  0.1125165191697315,\n",
              "  0.006469312867776642,\n",
              "  0.022873000114587493,\n",
              "  0.018295597814371976,\n",
              "  0.006145393081984889,\n",
              "  0.00036510014322660867,\n",
              "  0.011514458018087223,\n",
              "  0.00611807130486432,\n",
              "  0.0008975085237603274,\n",
              "  0.011035314246621668],\n",
              " [0, 10, 20, 30, 40, 50, 60, 70, 80, 90, 100, 110])"
            ]
          },
          "metadata": {},
          "execution_count": 180
        }
      ]
    },
    {
      "cell_type": "code",
      "source": [
        "def predict2(weight,w,b):\n",
        "    scaled_X = sx.transform([[weight]])[0]\n",
        "    # here w1 = w[0] , w2 = w[1] and bias is b\n",
        "    # equation for mpg is w1*wt + bias\n",
        "    # scaled_X[0] is weight\n",
        "\n",
        "    scaled_mpg = w[0] * scaled_X[0]+ b\n",
        "    # once we get mpg prediction we need to to rescale it back to original value\n",
        "    # also since it returns 2D array, to get single value we need to do value[0][0]\n",
        "    return sy.inverse_transform([[scaled_mpg]])[0][0] "
      ],
      "metadata": {
        "id": "WceVo4eRd2wb"
      },
      "id": "WceVo4eRd2wb",
      "execution_count": 181,
      "outputs": []
    },
    {
      "cell_type": "code",
      "source": [
        "#predicting the value of mpg at weight=6.7\n",
        "predict2(6.7,w, b) "
      ],
      "metadata": {
        "colab": {
          "base_uri": "https://localhost:8080/"
        },
        "id": "t6Vm7-HtKdcg",
        "outputId": "1326b335-fa57-4f29-884c-b75145b58060"
      },
      "id": "t6Vm7-HtKdcg",
      "execution_count": 182,
      "outputs": [
        {
          "output_type": "execute_result",
          "data": {
            "text/plain": [
              "2.585705045672332"
            ]
          },
          "metadata": {},
          "execution_count": 182
        }
      ]
    },
    {
      "cell_type": "code",
      "source": [
        "#plotting epoch vs cost\n",
        "plt.xlabel(\"epoch\")\n",
        "plt.ylabel(\"cost\")\n",
        "plt.plot(epoch_list,cost_list)"
      ],
      "metadata": {
        "colab": {
          "base_uri": "https://localhost:8080/",
          "height": 297
        },
        "id": "WV3dK2jjd0uj",
        "outputId": "302dc8d2-5c28-4626-d1df-7070c36aef77"
      },
      "id": "WV3dK2jjd0uj",
      "execution_count": 183,
      "outputs": [
        {
          "output_type": "execute_result",
          "data": {
            "text/plain": [
              "[<matplotlib.lines.Line2D at 0x7f797ec32cd0>]"
            ]
          },
          "metadata": {},
          "execution_count": 183
        },
        {
          "output_type": "display_data",
          "data": {
            "text/plain": [
              "<Figure size 432x288 with 1 Axes>"
            ],
            "image/png": "[encoded data removed]"
          },
          "metadata": {
            "needs_background": "light"
          }
        }
      ]
    },
    {
      "cell_type": "code",
      "source": [
        ""
      ],
      "metadata": {
        "id": "3TblwYe-KyL8"
      },
      "id": "3TblwYe-KyL8",
      "execution_count": 183,
      "outputs": []
    }
  ],
  "metadata": {
    "kernelspec": {
      "display_name": "Python 3 (ipykernel)",
      "language": "python",
      "name": "python3"
    },
    "language_info": {
      "codemirror_mode": {
        "name": "ipython",
        "version": 3
      },
      "file_extension": ".py",
      "mimetype": "text/x-python",
      "name": "python",
      "nbconvert_exporter": "python",
      "pygments_lexer": "ipython3",
      "version": "3.9.7"
    },
    "colab": {
      "name": "VanshikaGupta_200968118_ML_Lab1_Exercise-1.ipynb",
      "provenance": [],
      "collapsed_sections": []
    }
  },
  "nbformat": 4,
  "nbformat_minor": 5
}