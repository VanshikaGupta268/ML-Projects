{
  "nbformat": 4,
  "nbformat_minor": 0,
  "metadata": {
    "colab": {
      "name": "Q1_student_marks.ipynb",
      "provenance": [],
      "collapsed_sections": []
    },
    "kernelspec": {
      "name": "python3",
      "display_name": "Python 3"
    },
    "language_info": {
      "name": "python"
    }
  },
  "cells": [
    {
      "cell_type": "code",
      "metadata": {
        "id": "xIRAWBoXZHdb"
      },
      "source": [
        "import pandas as pd\n"
      ],
      "execution_count": null,
      "outputs": []
    },
    {
      "cell_type": "markdown",
      "metadata": {
        "id": "Gh_dUurHFhtJ"
      },
      "source": [
        "Creating a data frame with details of 10 students and columns as Roll Number, Name, Gender, Marks1, Marks2, Marks3."
      ]
    },
    {
      "cell_type": "code",
      "metadata": {
        "colab": {
          "base_uri": "https://localhost:8080/",
          "height": 363
        },
        "id": "Q2sJnUCpvsMa",
        "outputId": "4a62965f-aa9c-41da-8fdd-81004681ee9c"
      },
      "source": [
        "marks_dataset={'ROLL NO':[1,2,3,4,5,6,7,8,9,10],\n",
        "               'NAME': ['Pallavini','Iqbal','Bhargavi','Sachin','Aparna','Sambhav','Madhuri','Balbir','Udaya','Dhanraj'],\n",
        "               'GENDER':['Female','Male','Female','Male','Female','Male','Female','Male','Female','Male'],\n",
        "               'MARKS1':[45,34,67,32,56,27,46,35,24,20],\n",
        "               'MARKS2':[89,56,76,58,89,67,78,45,46,34],\n",
        "               'MARKS3':[90,78,95,70,99,87,96,67,55,57]}\n",
        "marks_dataset= pd.DataFrame(marks_dataset)  \n",
        "marks_dataset           "
      ],
      "execution_count": null,
      "outputs": [
        {
          "output_type": "execute_result",
          "data": {
            "text/html": [
              "<div>\n",
              "<style scoped>\n",
              "    .dataframe tbody tr th:only-of-type {\n",
              "        vertical-align: middle;\n",
              "    }\n",
              "\n",
              "    .dataframe tbody tr th {\n",
              "        vertical-align: top;\n",
              "    }\n",
              "\n",
              "    .dataframe thead th {\n",
              "        text-align: right;\n",
              "    }\n",
              "</style>\n",
              "<table border=\"1\" class=\"dataframe\">\n",
              "  <thead>\n",
              "    <tr style=\"text-align: right;\">\n",
              "      <th></th>\n",
              "      <th>ROLL NO</th>\n",
              "      <th>NAME</th>\n",
              "      <th>GENDER</th>\n",
              "      <th>MARKS1</th>\n",
              "      <th>MARKS2</th>\n",
              "      <th>MARKS3</th>\n",
              "    </tr>\n",
              "  </thead>\n",
              "  <tbody>\n",
              "    <tr>\n",
              "      <th>0</th>\n",
              "      <td>1</td>\n",
              "      <td>Pallavini</td>\n",
              "      <td>Female</td>\n",
              "      <td>45</td>\n",
              "      <td>89</td>\n",
              "      <td>90</td>\n",
              "    </tr>\n",
              "    <tr>\n",
              "      <th>1</th>\n",
              "      <td>2</td>\n",
              "      <td>Iqbal</td>\n",
              "      <td>Male</td>\n",
              "      <td>34</td>\n",
              "      <td>56</td>\n",
              "      <td>78</td>\n",
              "    </tr>\n",
              "    <tr>\n",
              "      <th>2</th>\n",
              "      <td>3</td>\n",
              "      <td>Bhargavi</td>\n",
              "      <td>Female</td>\n",
              "      <td>67</td>\n",
              "      <td>76</td>\n",
              "      <td>95</td>\n",
              "    </tr>\n",
              "    <tr>\n",
              "      <th>3</th>\n",
              "      <td>4</td>\n",
              "      <td>Sachin</td>\n",
              "      <td>Male</td>\n",
              "      <td>32</td>\n",
              "      <td>58</td>\n",
              "      <td>70</td>\n",
              "    </tr>\n",
              "    <tr>\n",
              "      <th>4</th>\n",
              "      <td>5</td>\n",
              "      <td>Aparna</td>\n",
              "      <td>Female</td>\n",
              "      <td>56</td>\n",
              "      <td>89</td>\n",
              "      <td>99</td>\n",
              "    </tr>\n",
              "    <tr>\n",
              "      <th>5</th>\n",
              "      <td>6</td>\n",
              "      <td>Sambhav</td>\n",
              "      <td>Male</td>\n",
              "      <td>27</td>\n",
              "      <td>67</td>\n",
              "      <td>87</td>\n",
              "    </tr>\n",
              "    <tr>\n",
              "      <th>6</th>\n",
              "      <td>7</td>\n",
              "      <td>Madhuri</td>\n",
              "      <td>Female</td>\n",
              "      <td>46</td>\n",
              "      <td>78</td>\n",
              "      <td>96</td>\n",
              "    </tr>\n",
              "    <tr>\n",
              "      <th>7</th>\n",
              "      <td>8</td>\n",
              "      <td>Balbir</td>\n",
              "      <td>Male</td>\n",
              "      <td>35</td>\n",
              "      <td>45</td>\n",
              "      <td>67</td>\n",
              "    </tr>\n",
              "    <tr>\n",
              "      <th>8</th>\n",
              "      <td>9</td>\n",
              "      <td>Udaya</td>\n",
              "      <td>Female</td>\n",
              "      <td>24</td>\n",
              "      <td>46</td>\n",
              "      <td>55</td>\n",
              "    </tr>\n",
              "    <tr>\n",
              "      <th>9</th>\n",
              "      <td>10</td>\n",
              "      <td>Dhanraj</td>\n",
              "      <td>Male</td>\n",
              "      <td>20</td>\n",
              "      <td>34</td>\n",
              "      <td>57</td>\n",
              "    </tr>\n",
              "  </tbody>\n",
              "</table>\n",
              "</div>"
            ],
            "text/plain": [
              "   ROLL NO       NAME  GENDER  MARKS1  MARKS2  MARKS3\n",
              "0        1  Pallavini  Female      45      89      90\n",
              "1        2      Iqbal    Male      34      56      78\n",
              "2        3   Bhargavi  Female      67      76      95\n",
              "3        4     Sachin    Male      32      58      70\n",
              "4        5     Aparna  Female      56      89      99\n",
              "5        6    Sambhav    Male      27      67      87\n",
              "6        7    Madhuri  Female      46      78      96\n",
              "7        8     Balbir    Male      35      45      67\n",
              "8        9      Udaya  Female      24      46      55\n",
              "9       10    Dhanraj    Male      20      34      57"
            ]
          },
          "metadata": {},
          "execution_count": 2
        }
      ]
    },
    {
      "cell_type": "markdown",
      "metadata": {
        "id": "RkZUlMzSFpfr"
      },
      "source": [
        "Create a new column with total marks"
      ]
    },
    {
      "cell_type": "code",
      "metadata": {
        "colab": {
          "base_uri": "https://localhost:8080/",
          "height": 363
        },
        "id": "-eVsAcWS3XQK",
        "outputId": "bea4b2d2-c866-4043-e994-4829b5cacdde"
      },
      "source": [
        "marks_dataset[\"TOTAL MARKS\"]=marks_dataset.sum(axis=1)\n",
        "marks_dataset"
      ],
      "execution_count": null,
      "outputs": [
        {
          "output_type": "execute_result",
          "data": {
            "text/html": [
              "<div>\n",
              "<style scoped>\n",
              "    .dataframe tbody tr th:only-of-type {\n",
              "        vertical-align: middle;\n",
              "    }\n",
              "\n",
              "    .dataframe tbody tr th {\n",
              "        vertical-align: top;\n",
              "    }\n",
              "\n",
              "    .dataframe thead th {\n",
              "        text-align: right;\n",
              "    }\n",
              "</style>\n",
              "<table border=\"1\" class=\"dataframe\">\n",
              "  <thead>\n",
              "    <tr style=\"text-align: right;\">\n",
              "      <th></th>\n",
              "      <th>ROLL NO</th>\n",
              "      <th>NAME</th>\n",
              "      <th>GENDER</th>\n",
              "      <th>MARKS1</th>\n",
              "      <th>MARKS2</th>\n",
              "      <th>MARKS3</th>\n",
              "      <th>TOTAL MARKS</th>\n",
              "    </tr>\n",
              "  </thead>\n",
              "  <tbody>\n",
              "    <tr>\n",
              "      <th>0</th>\n",
              "      <td>1</td>\n",
              "      <td>Pallavini</td>\n",
              "      <td>Female</td>\n",
              "      <td>45</td>\n",
              "      <td>89</td>\n",
              "      <td>90</td>\n",
              "      <td>225</td>\n",
              "    </tr>\n",
              "    <tr>\n",
              "      <th>1</th>\n",
              "      <td>2</td>\n",
              "      <td>Iqbal</td>\n",
              "      <td>Male</td>\n",
              "      <td>34</td>\n",
              "      <td>56</td>\n",
              "      <td>78</td>\n",
              "      <td>170</td>\n",
              "    </tr>\n",
              "    <tr>\n",
              "      <th>2</th>\n",
              "      <td>3</td>\n",
              "      <td>Bhargavi</td>\n",
              "      <td>Female</td>\n",
              "      <td>67</td>\n",
              "      <td>76</td>\n",
              "      <td>95</td>\n",
              "      <td>241</td>\n",
              "    </tr>\n",
              "    <tr>\n",
              "      <th>3</th>\n",
              "      <td>4</td>\n",
              "      <td>Sachin</td>\n",
              "      <td>Male</td>\n",
              "      <td>32</td>\n",
              "      <td>58</td>\n",
              "      <td>70</td>\n",
              "      <td>164</td>\n",
              "    </tr>\n",
              "    <tr>\n",
              "      <th>4</th>\n",
              "      <td>5</td>\n",
              "      <td>Aparna</td>\n",
              "      <td>Female</td>\n",
              "      <td>56</td>\n",
              "      <td>89</td>\n",
              "      <td>99</td>\n",
              "      <td>249</td>\n",
              "    </tr>\n",
              "    <tr>\n",
              "      <th>5</th>\n",
              "      <td>6</td>\n",
              "      <td>Sambhav</td>\n",
              "      <td>Male</td>\n",
              "      <td>27</td>\n",
              "      <td>67</td>\n",
              "      <td>87</td>\n",
              "      <td>187</td>\n",
              "    </tr>\n",
              "    <tr>\n",
              "      <th>6</th>\n",
              "      <td>7</td>\n",
              "      <td>Madhuri</td>\n",
              "      <td>Female</td>\n",
              "      <td>46</td>\n",
              "      <td>78</td>\n",
              "      <td>96</td>\n",
              "      <td>227</td>\n",
              "    </tr>\n",
              "    <tr>\n",
              "      <th>7</th>\n",
              "      <td>8</td>\n",
              "      <td>Balbir</td>\n",
              "      <td>Male</td>\n",
              "      <td>35</td>\n",
              "      <td>45</td>\n",
              "      <td>67</td>\n",
              "      <td>155</td>\n",
              "    </tr>\n",
              "    <tr>\n",
              "      <th>8</th>\n",
              "      <td>9</td>\n",
              "      <td>Udaya</td>\n",
              "      <td>Female</td>\n",
              "      <td>24</td>\n",
              "      <td>46</td>\n",
              "      <td>55</td>\n",
              "      <td>134</td>\n",
              "    </tr>\n",
              "    <tr>\n",
              "      <th>9</th>\n",
              "      <td>10</td>\n",
              "      <td>Dhanraj</td>\n",
              "      <td>Male</td>\n",
              "      <td>20</td>\n",
              "      <td>34</td>\n",
              "      <td>57</td>\n",
              "      <td>121</td>\n",
              "    </tr>\n",
              "  </tbody>\n",
              "</table>\n",
              "</div>"
            ],
            "text/plain": [
              "   ROLL NO       NAME  GENDER  MARKS1  MARKS2  MARKS3  TOTAL MARKS\n",
              "0        1  Pallavini  Female      45      89      90          225\n",
              "1        2      Iqbal    Male      34      56      78          170\n",
              "2        3   Bhargavi  Female      67      76      95          241\n",
              "3        4     Sachin    Male      32      58      70          164\n",
              "4        5     Aparna  Female      56      89      99          249\n",
              "5        6    Sambhav    Male      27      67      87          187\n",
              "6        7    Madhuri  Female      46      78      96          227\n",
              "7        8     Balbir    Male      35      45      67          155\n",
              "8        9      Udaya  Female      24      46      55          134\n",
              "9       10    Dhanraj    Male      20      34      57          121"
            ]
          },
          "metadata": {},
          "execution_count": 3
        }
      ]
    },
    {
      "cell_type": "markdown",
      "metadata": {
        "id": "DyUOxCFHFuww"
      },
      "source": [
        "Lowest marks in Marks1"
      ]
    },
    {
      "cell_type": "markdown",
      "metadata": {
        "id": "tFIg8S7LwIrw"
      },
      "source": [
        ""
      ]
    },
    {
      "cell_type": "code",
      "metadata": {
        "colab": {
          "base_uri": "https://localhost:8080/"
        },
        "id": "vZfFKf7VZ0Nj",
        "outputId": "75f05642-c4bf-49e3-d8ba-135f468c58ec"
      },
      "source": [
        "#To find the minimum marks in MARKS1\n",
        "column = marks_dataset[\"MARKS1\"]\n",
        "min_value = column. min() #get min value from \"Marks1\"\n",
        "print(min_value)"
      ],
      "execution_count": null,
      "outputs": [
        {
          "output_type": "stream",
          "name": "stdout",
          "text": [
            "20\n"
          ]
        }
      ]
    },
    {
      "cell_type": "markdown",
      "metadata": {
        "id": "zWDjwSGdF9VF"
      },
      "source": [
        "Highest marks in Marks2"
      ]
    },
    {
      "cell_type": "code",
      "metadata": {
        "colab": {
          "base_uri": "https://localhost:8080/"
        },
        "id": "FZyg2ppVajC6",
        "outputId": "30ead053-7373-42e1-a536-152a4aaeb6c9"
      },
      "source": [
        "#To find the maximum marks in MARKS2\n",
        "column = marks_dataset[\"MARKS2\"]\n",
        "max_value = column. max() #get max value from \"Marks2\"\n",
        "print(max_value)"
      ],
      "execution_count": null,
      "outputs": [
        {
          "output_type": "stream",
          "name": "stdout",
          "text": [
            "89\n"
          ]
        }
      ]
    },
    {
      "cell_type": "markdown",
      "metadata": {
        "id": "alNRW_v5GCtK"
      },
      "source": [
        "Average marks in Marks3"
      ]
    },
    {
      "cell_type": "code",
      "metadata": {
        "colab": {
          "base_uri": "https://localhost:8080/"
        },
        "id": "TOVLQwQhb1je",
        "outputId": "9f05f147-b5a2-4e85-805a-ae57e9ef3a27"
      },
      "source": [
        "#To find the average marks in MARKS3\n",
        "column = marks_dataset[\"MARKS3\"]\n",
        "avg_value = column. mean() #get average value from \"Marks3\"\n",
        "print(avg_value)"
      ],
      "execution_count": null,
      "outputs": [
        {
          "output_type": "stream",
          "name": "stdout",
          "text": [
            "79.4\n"
          ]
        }
      ]
    },
    {
      "cell_type": "markdown",
      "metadata": {
        "id": "GoGk0eVeGISa"
      },
      "source": [
        "Student name with highest average"
      ]
    },
    {
      "cell_type": "code",
      "metadata": {
        "colab": {
          "base_uri": "https://localhost:8080/"
        },
        "id": "Ba7cpsd_-ZiL",
        "outputId": "99d75c91-c2d0-4859-e624-1caeb6ec02c6"
      },
      "source": [
        "marks_dataset[[\"NAME\",\"TOTAL MARKS\"]].max()"
      ],
      "execution_count": null,
      "outputs": [
        {
          "output_type": "execute_result",
          "data": {
            "text/plain": [
              "NAME           Udaya\n",
              "TOTAL MARKS      249\n",
              "dtype: object"
            ]
          },
          "metadata": {},
          "execution_count": 10
        }
      ]
    },
    {
      "cell_type": "markdown",
      "metadata": {
        "id": "g724QhIEGdoT"
      },
      "source": [
        "Since ,if the student has highest \"Total marks\" among the other students, it clearly means that his/her average marks will be the greatest"
      ]
    },
    {
      "cell_type": "markdown",
      "metadata": {
        "id": "OGQ-npcVGWmk"
      },
      "source": [
        "Students failed in Marks2 (<40)"
      ]
    },
    {
      "cell_type": "code",
      "metadata": {
        "colab": {
          "base_uri": "https://localhost:8080/",
          "height": 81
        },
        "id": "uzeroS72uqms",
        "outputId": "20337467-638f-469f-a929-5a6697a9999c"
      },
      "source": [
        "marks_dataset[marks_dataset[\"MARKS2\"]<40]"
      ],
      "execution_count": null,
      "outputs": [
        {
          "output_type": "execute_result",
          "data": {
            "text/html": [
              "<div>\n",
              "<style scoped>\n",
              "    .dataframe tbody tr th:only-of-type {\n",
              "        vertical-align: middle;\n",
              "    }\n",
              "\n",
              "    .dataframe tbody tr th {\n",
              "        vertical-align: top;\n",
              "    }\n",
              "\n",
              "    .dataframe thead th {\n",
              "        text-align: right;\n",
              "    }\n",
              "</style>\n",
              "<table border=\"1\" class=\"dataframe\">\n",
              "  <thead>\n",
              "    <tr style=\"text-align: right;\">\n",
              "      <th></th>\n",
              "      <th>ROLL NO</th>\n",
              "      <th>NAME</th>\n",
              "      <th>GENDER</th>\n",
              "      <th>MARKS1</th>\n",
              "      <th>MARKS2</th>\n",
              "      <th>MARKS3</th>\n",
              "      <th>TOTAL MARKS</th>\n",
              "    </tr>\n",
              "  </thead>\n",
              "  <tbody>\n",
              "    <tr>\n",
              "      <th>9</th>\n",
              "      <td>10</td>\n",
              "      <td>Dhanraj</td>\n",
              "      <td>Male</td>\n",
              "      <td>20</td>\n",
              "      <td>34</td>\n",
              "      <td>57</td>\n",
              "      <td>121</td>\n",
              "    </tr>\n",
              "  </tbody>\n",
              "</table>\n",
              "</div>"
            ],
            "text/plain": [
              "   ROLL NO     NAME GENDER  MARKS1  MARKS2  MARKS3  TOTAL MARKS\n",
              "9       10  Dhanraj   Male      20      34      57          121"
            ]
          },
          "metadata": {},
          "execution_count": 9
        }
      ]
    },
    {
      "cell_type": "markdown",
      "metadata": {
        "id": "684lMb0lvMGy"
      },
      "source": [
        "Inference= Only 1 student, named:Dhanraj, failed in Marks2\n"
      ]
    },
    {
      "cell_type": "code",
      "metadata": {
        "id": "Jly5aY2lFfJF"
      },
      "source": [
        ""
      ],
      "execution_count": null,
      "outputs": []
    }
  ]
}