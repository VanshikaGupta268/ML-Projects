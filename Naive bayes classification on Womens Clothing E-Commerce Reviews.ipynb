{
  "nbformat": 4,
  "nbformat_minor": 0,
  "metadata": {
    "colab": {
      "name": "Vanshika_Gupta_200968118_Sec(A)_ML_Lab3_Exercise-2.ipynb",
      "provenance": [],
      "collapsed_sections": []
    },
    "kernelspec": {
      "name": "python3",
      "display_name": "Python 3"
    },
    "language_info": {
      "name": "python"
    }
  },
  "cells": [
    {
      "cell_type": "markdown",
      "source": [
        "This dataset includes 23486 rows and 10 feature variables. Each row corresponds to a customer review, and includes the variables:\n",
        "\n",
        "* Clothing ID: Integer Categorical variable that refers to the specific piece being reviewed.\n",
        "* Age: Positive Integer variable of the reviewers age.\n",
        "* Title: String variable for the title of the review.\n",
        "* Review Text: String variable for the review body.\n",
        "* Rating: Positive Ordinal Integer variable for the product score granted by the customer from 1 Worst, to 5 Best.\n",
        "* Recommended IND: Binary variable stating where the customer recommends the product where 1 is recommended, 0 is not recommended.\n",
        "* Positive Feedback Count: Positive Integer documenting the number of other customers who found this review positive.\n",
        "* Division Name: Categorical name of the product high level division.\n",
        "* Department Name: Categorical name of the product department name.\n",
        "* Class Name: Categorical name of the product class name."
      ],
      "metadata": {
        "id": "772GmTSpClKR"
      }
    },
    {
      "cell_type": "code",
      "execution_count": null,
      "metadata": {
        "id": "wLrVAvkzBWyz"
      },
      "outputs": [],
      "source": [
        "#importing libraries for textual analysis and calculations\n",
        "import numpy as np\n",
        "import pandas as pd\n",
        "\n",
        "#importing libraries for visualization\n",
        "from matplotlib import pyplot as plt\n",
        "import seaborn as sns\n",
        "\n",
        "# importing libraries for preprocessing\n",
        "from sklearn.pipeline import Pipeline\n",
        "from sklearn.compose import ColumnTransformer\n",
        "from sklearn.preprocessing import RobustScaler\n",
        "from sklearn.preprocessing import OneHotEncoder\n",
        "from sklearn.feature_extraction.text import CountVectorizer"
      ]
    },
    {
      "cell_type": "code",
      "source": [
        "#importing the dataset\n",
        "df = pd.read_csv('/content/Womens Clothing E-Commerce Reviews (1).csv')"
      ],
      "metadata": {
        "id": "YdIh24QRM-PJ"
      },
      "execution_count": null,
      "outputs": []
    },
    {
      "cell_type": "code",
      "source": [
        "#displaying top 5 tuples\n",
        "df.head()"
      ],
      "metadata": {
        "colab": {
          "base_uri": "https://localhost:8080/",
          "height": 354
        },
        "id": "aVIbUURgNKHq",
        "outputId": "05d12cb3-79aa-44cc-ee34-054e295c5f43"
      },
      "execution_count": null,
      "outputs": [
        {
          "output_type": "execute_result",
          "data": {
            "text/plain": [
              "   Unnamed: 0  Clothing ID  Age                    Title  \\\n",
              "0           0          767   33                      NaN   \n",
              "1           1         1080   34                      NaN   \n",
              "2           2         1077   60  Some major design flaws   \n",
              "3           3         1049   50         My favorite buy!   \n",
              "4           4          847   47         Flattering shirt   \n",
              "\n",
              "                                         Review Text  Rating  Recommended IND  \\\n",
              "0  Absolutely wonderful - silky and sexy and comf...       4                1   \n",
              "1  Love this dress!  it's sooo pretty.  i happene...       5                1   \n",
              "2  I had such high hopes for this dress and reall...       3                0   \n",
              "3  I love, love, love this jumpsuit. it's fun, fl...       5                1   \n",
              "4  This shirt is very flattering to all due to th...       5                1   \n",
              "\n",
              "   Positive Feedback Count   Division Name Department Name Class Name  \n",
              "0                        0       Initmates        Intimate  Intimates  \n",
              "1                        4         General         Dresses    Dresses  \n",
              "2                        0         General         Dresses    Dresses  \n",
              "3                        0  General Petite         Bottoms      Pants  \n",
              "4                        6         General            Tops    Blouses  "
            ],
            "text/html": [
              "\n",
              "  <div id=\"df-717a7448-e220-443f-be68-ae175fed9385\">\n",
              "    <div class=\"colab-df-container\">\n",
              "      <div>\n",
              "<style scoped>\n",
              "    .dataframe tbody tr th:only-of-type {\n",
              "        vertical-align: middle;\n",
              "    }\n",
              "\n",
              "    .dataframe tbody tr th {\n",
              "        vertical-align: top;\n",
              "    }\n",
              "\n",
              "    .dataframe thead th {\n",
              "        text-align: right;\n",
              "    }\n",
              "</style>\n",
              "<table border=\"1\" class=\"dataframe\">\n",
              "  <thead>\n",
              "    <tr style=\"text-align: right;\">\n",
              "      <th></th>\n",
              "      <th>Unnamed: 0</th>\n",
              "      <th>Clothing ID</th>\n",
              "      <th>Age</th>\n",
              "      <th>Title</th>\n",
              "      <th>Review Text</th>\n",
              "      <th>Rating</th>\n",
              "      <th>Recommended IND</th>\n",
              "      <th>Positive Feedback Count</th>\n",
              "      <th>Division Name</th>\n",
              "      <th>Department Name</th>\n",
              "      <th>Class Name</th>\n",
              "    </tr>\n",
              "  </thead>\n",
              "  <tbody>\n",
              "    <tr>\n",
              "      <th>0</th>\n",
              "      <td>0</td>\n",
              "      <td>767</td>\n",
              "      <td>33</td>\n",
              "      <td>NaN</td>\n",
              "      <td>Absolutely wonderful - silky and sexy and comf...</td>\n",
              "      <td>4</td>\n",
              "      <td>1</td>\n",
              "      <td>0</td>\n",
              "      <td>Initmates</td>\n",
              "      <td>Intimate</td>\n",
              "      <td>Intimates</td>\n",
              "    </tr>\n",
              "    <tr>\n",
              "      <th>1</th>\n",
              "      <td>1</td>\n",
              "      <td>1080</td>\n",
              "      <td>34</td>\n",
              "      <td>NaN</td>\n",
              "      <td>Love this dress!  it's sooo pretty.  i happene...</td>\n",
              "      <td>5</td>\n",
              "      <td>1</td>\n",
              "      <td>4</td>\n",
              "      <td>General</td>\n",
              "      <td>Dresses</td>\n",
              "      <td>Dresses</td>\n",
              "    </tr>\n",
              "    <tr>\n",
              "      <th>2</th>\n",
              "      <td>2</td>\n",
              "      <td>1077</td>\n",
              "      <td>60</td>\n",
              "      <td>Some major design flaws</td>\n",
              "      <td>I had such high hopes for this dress and reall...</td>\n",
              "      <td>3</td>\n",
              "      <td>0</td>\n",
              "      <td>0</td>\n",
              "      <td>General</td>\n",
              "      <td>Dresses</td>\n",
              "      <td>Dresses</td>\n",
              "    </tr>\n",
              "    <tr>\n",
              "      <th>3</th>\n",
              "      <td>3</td>\n",
              "      <td>1049</td>\n",
              "      <td>50</td>\n",
              "      <td>My favorite buy!</td>\n",
              "      <td>I love, love, love this jumpsuit. it's fun, fl...</td>\n",
              "      <td>5</td>\n",
              "      <td>1</td>\n",
              "      <td>0</td>\n",
              "      <td>General Petite</td>\n",
              "      <td>Bottoms</td>\n",
              "      <td>Pants</td>\n",
              "    </tr>\n",
              "    <tr>\n",
              "      <th>4</th>\n",
              "      <td>4</td>\n",
              "      <td>847</td>\n",
              "      <td>47</td>\n",
              "      <td>Flattering shirt</td>\n",
              "      <td>This shirt is very flattering to all due to th...</td>\n",
              "      <td>5</td>\n",
              "      <td>1</td>\n",
              "      <td>6</td>\n",
              "      <td>General</td>\n",
              "      <td>Tops</td>\n",
              "      <td>Blouses</td>\n",
              "    </tr>\n",
              "  </tbody>\n",
              "</table>\n",
              "</div>\n",
              "      <button class=\"colab-df-convert\" onclick=\"convertToInteractive('df-717a7448-e220-443f-be68-ae175fed9385')\"\n",
              "              title=\"Convert this dataframe to an interactive table.\"\n",
              "              style=\"display:none;\">\n",
              "        \n",
              "  <svg xmlns=\"http://www.w3.org/2000/svg\" height=\"24px\"viewBox=\"0 0 24 24\"\n",
              "       width=\"24px\">\n",
              "    <path d=\"M0 0h24v24H0V0z\" fill=\"none\"/>\n",
              "    <path d=\"M18.56 5.44l.94 2.06.94-2.06 2.06-.94-2.06-.94-.94-2.06-.94 2.06-2.06.94zm-11 1L8.5 8.5l.94-2.06 2.06-.94-2.06-.94L8.5 2.5l-.94 2.06-2.06.94zm10 10l.94 2.06.94-2.06 2.06-.94-2.06-.94-.94-2.06-.94 2.06-2.06.94z\"/><path d=\"M17.41 7.96l-1.37-1.37c-.4-.4-.92-.59-1.43-.59-.52 0-1.04.2-1.43.59L10.3 9.45l-7.72 7.72c-.78.78-.78 2.05 0 2.83L4 21.41c.39.39.9.59 1.41.59.51 0 1.02-.2 1.41-.59l7.78-7.78 2.81-2.81c.8-.78.8-2.07 0-2.86zM5.41 20L4 18.59l7.72-7.72 1.47 1.35L5.41 20z\"/>\n",
              "  </svg>\n",
              "      </button>\n",
              "      \n",
              "  <style>\n",
              "    .colab-df-container {\n",
              "      display:flex;\n",
              "      flex-wrap:wrap;\n",
              "      gap: 12px;\n",
              "    }\n",
              "\n",
              "    .colab-df-convert {\n",
              "      background-color: #E8F0FE;\n",
              "      border: none;\n",
              "      border-radius: 50%;\n",
              "      cursor: pointer;\n",
              "      display: none;\n",
              "      fill: #1967D2;\n",
              "      height: 32px;\n",
              "      padding: 0 0 0 0;\n",
              "      width: 32px;\n",
              "    }\n",
              "\n",
              "    .colab-df-convert:hover {\n",
              "      background-color: #E2EBFA;\n",
              "      box-shadow: 0px 1px 2px rgba(60, 64, 67, 0.3), 0px 1px 3px 1px rgba(60, 64, 67, 0.15);\n",
              "      fill: #174EA6;\n",
              "    }\n",
              "\n",
              "    [theme=dark] .colab-df-convert {\n",
              "      background-color: #3B4455;\n",
              "      fill: #D2E3FC;\n",
              "    }\n",
              "\n",
              "    [theme=dark] .colab-df-convert:hover {\n",
              "      background-color: #434B5C;\n",
              "      box-shadow: 0px 1px 3px 1px rgba(0, 0, 0, 0.15);\n",
              "      filter: drop-shadow(0px 1px 2px rgba(0, 0, 0, 0.3));\n",
              "      fill: #FFFFFF;\n",
              "    }\n",
              "  </style>\n",
              "\n",
              "      <script>\n",
              "        const buttonEl =\n",
              "          document.querySelector('#df-717a7448-e220-443f-be68-ae175fed9385 button.colab-df-convert');\n",
              "        buttonEl.style.display =\n",
              "          google.colab.kernel.accessAllowed ? 'block' : 'none';\n",
              "\n",
              "        async function convertToInteractive(key) {\n",
              "          const element = document.querySelector('#df-717a7448-e220-443f-be68-ae175fed9385');\n",
              "          const dataTable =\n",
              "            await google.colab.kernel.invokeFunction('convertToInteractive',\n",
              "                                                     [key], {});\n",
              "          if (!dataTable) return;\n",
              "\n",
              "          const docLinkHtml = 'Like what you see? Visit the ' +\n",
              "            '<a target=\"_blank\" href=https://colab.research.google.com/notebooks/data_table.ipynb>data table notebook</a>'\n",
              "            + ' to learn more about interactive tables.';\n",
              "          element.innerHTML = '';\n",
              "          dataTable['output_type'] = 'display_data';\n",
              "          await google.colab.output.renderOutput(dataTable, element);\n",
              "          const docLink = document.createElement('div');\n",
              "          docLink.innerHTML = docLinkHtml;\n",
              "          element.appendChild(docLink);\n",
              "        }\n",
              "      </script>\n",
              "    </div>\n",
              "  </div>\n",
              "  "
            ]
          },
          "metadata": {},
          "execution_count": 251
        }
      ]
    },
    {
      "cell_type": "markdown",
      "source": [
        "## Q1:Preprocessing:\n"
      ],
      "metadata": {
        "id": "sg8wclTKDBPs"
      }
    },
    {
      "cell_type": "markdown",
      "source": [
        "## 1.1Find any null values are present or not, If present remove those data."
      ],
      "metadata": {
        "id": "dQKcv-0CDE68"
      }
    },
    {
      "cell_type": "code",
      "source": [
        "#checking for null values\n",
        "df.isnull().sum()"
      ],
      "metadata": {
        "colab": {
          "base_uri": "https://localhost:8080/"
        },
        "id": "6_KB7j4QNKTa",
        "outputId": "0b042985-b11b-47aa-bdb4-9ddab3b53eb8"
      },
      "execution_count": null,
      "outputs": [
        {
          "output_type": "execute_result",
          "data": {
            "text/plain": [
              "Unnamed: 0                    0\n",
              "Clothing ID                   0\n",
              "Age                           0\n",
              "Title                      3351\n",
              "Review Text                 752\n",
              "Rating                        0\n",
              "Recommended IND               0\n",
              "Positive Feedback Count       0\n",
              "Division Name                14\n",
              "Department Name              14\n",
              "Class Name                   14\n",
              "dtype: int64"
            ]
          },
          "metadata": {},
          "execution_count": 252
        }
      ]
    },
    {
      "cell_type": "code",
      "source": [
        "#dropping the null values\n",
        "df = df.dropna()"
      ],
      "metadata": {
        "id": "xSa8wLHHNQDU"
      },
      "execution_count": null,
      "outputs": []
    },
    {
      "cell_type": "code",
      "source": [
        "#again checking for null values\n",
        "df.isnull().sum()"
      ],
      "metadata": {
        "colab": {
          "base_uri": "https://localhost:8080/"
        },
        "id": "F7saDuPENRl6",
        "outputId": "15ce25ca-a13c-403b-c5f4-2dbbc4fa8b8e"
      },
      "execution_count": null,
      "outputs": [
        {
          "output_type": "execute_result",
          "data": {
            "text/plain": [
              "Unnamed: 0                 0\n",
              "Clothing ID                0\n",
              "Age                        0\n",
              "Title                      0\n",
              "Review Text                0\n",
              "Rating                     0\n",
              "Recommended IND            0\n",
              "Positive Feedback Count    0\n",
              "Division Name              0\n",
              "Department Name            0\n",
              "Class Name                 0\n",
              "dtype: int64"
            ]
          },
          "metadata": {},
          "execution_count": 254
        }
      ]
    },
    {
      "cell_type": "markdown",
      "source": [
        "Inference: No null values left"
      ],
      "metadata": {
        "id": "ecraLbdx_EFr"
      }
    },
    {
      "cell_type": "markdown",
      "source": [
        "## 1.2 Remove the data that have less than 5 reviews."
      ],
      "metadata": {
        "id": "C_bmQdYwDQAU"
      }
    },
    {
      "cell_type": "code",
      "source": [
        "#creating a separate attribute to keep atrack of total number of reviews\n",
        "df['Total_count'] = 0\n",
        "\n",
        "for x in df['Clothing ID'].unique():\n",
        "    df.loc[df['Clothing ID']==x, 'Total_count'] = df['Clothing ID'].value_counts()[x]\n",
        "    \n",
        "df = df[df.Total_count>=5]"
      ],
      "metadata": {
        "colab": {
          "base_uri": "https://localhost:8080/"
        },
        "id": "Q-tdFQxrNiHz",
        "outputId": "463d3970-b20c-4a05-e746-40a94ca17c5c"
      },
      "execution_count": null,
      "outputs": [
        {
          "output_type": "stream",
          "name": "stderr",
          "text": [
            "/usr/local/lib/python3.7/dist-packages/ipykernel_launcher.py:2: SettingWithCopyWarning: \n",
            "A value is trying to be set on a copy of a slice from a DataFrame.\n",
            "Try using .loc[row_indexer,col_indexer] = value instead\n",
            "\n",
            "See the caveats in the documentation: https://pandas.pydata.org/pandas-docs/stable/user_guide/indexing.html#returning-a-view-versus-a-copy\n",
            "  \n",
            "/usr/local/lib/python3.7/dist-packages/pandas/core/indexing.py:1817: SettingWithCopyWarning: \n",
            "A value is trying to be set on a copy of a slice from a DataFrame.\n",
            "Try using .loc[row_indexer,col_indexer] = value instead\n",
            "\n",
            "See the caveats in the documentation: https://pandas.pydata.org/pandas-docs/stable/user_guide/indexing.html#returning-a-view-versus-a-copy\n",
            "  self._setitem_single_column(loc, value, pi)\n"
          ]
        }
      ]
    },
    {
      "cell_type": "code",
      "source": [
        "df.head()"
      ],
      "metadata": {
        "colab": {
          "base_uri": "https://localhost:8080/",
          "height": 441
        },
        "id": "RC7cMXltNpyA",
        "outputId": "94ca815b-082e-4381-8c5a-3a5e4f0afb63"
      },
      "execution_count": null,
      "outputs": [
        {
          "output_type": "execute_result",
          "data": {
            "text/plain": [
              "   Unnamed: 0  Clothing ID  Age                                 Title  \\\n",
              "2           2         1077   60               Some major design flaws   \n",
              "3           3         1049   50                      My favorite buy!   \n",
              "5           5         1080   49               Not for the very petite   \n",
              "6           6          858   39                  Cagrcoal shimmer fun   \n",
              "7           7          858   39  Shimmer, surprisingly goes with lots   \n",
              "\n",
              "                                         Review Text  Rating  Recommended IND  \\\n",
              "2  I had such high hopes for this dress and reall...       3                0   \n",
              "3  I love, love, love this jumpsuit. it's fun, fl...       5                1   \n",
              "5  I love tracy reese dresses, but this one is no...       2                0   \n",
              "6  I aded this in my basket at hte last mintue to...       5                1   \n",
              "7  I ordered this in carbon for store pick up, an...       4                1   \n",
              "\n",
              "   Positive Feedback Count   Division Name Department Name Class Name  \\\n",
              "2                        0         General         Dresses    Dresses   \n",
              "3                        0  General Petite         Bottoms      Pants   \n",
              "5                        4         General         Dresses    Dresses   \n",
              "6                        1  General Petite            Tops      Knits   \n",
              "7                        4  General Petite            Tops      Knits   \n",
              "\n",
              "   Total_count  \n",
              "2          221  \n",
              "3           25  \n",
              "5          222  \n",
              "6           18  \n",
              "7           18  "
            ],
            "text/html": [
              "\n",
              "  <div id=\"df-d1bd13dd-240d-4a13-aab0-9b8b4b6d8c9a\">\n",
              "    <div class=\"colab-df-container\">\n",
              "      <div>\n",
              "<style scoped>\n",
              "    .dataframe tbody tr th:only-of-type {\n",
              "        vertical-align: middle;\n",
              "    }\n",
              "\n",
              "    .dataframe tbody tr th {\n",
              "        vertical-align: top;\n",
              "    }\n",
              "\n",
              "    .dataframe thead th {\n",
              "        text-align: right;\n",
              "    }\n",
              "</style>\n",
              "<table border=\"1\" class=\"dataframe\">\n",
              "  <thead>\n",
              "    <tr style=\"text-align: right;\">\n",
              "      <th></th>\n",
              "      <th>Unnamed: 0</th>\n",
              "      <th>Clothing ID</th>\n",
              "      <th>Age</th>\n",
              "      <th>Title</th>\n",
              "      <th>Review Text</th>\n",
              "      <th>Rating</th>\n",
              "      <th>Recommended IND</th>\n",
              "      <th>Positive Feedback Count</th>\n",
              "      <th>Division Name</th>\n",
              "      <th>Department Name</th>\n",
              "      <th>Class Name</th>\n",
              "      <th>Total_count</th>\n",
              "    </tr>\n",
              "  </thead>\n",
              "  <tbody>\n",
              "    <tr>\n",
              "      <th>2</th>\n",
              "      <td>2</td>\n",
              "      <td>1077</td>\n",
              "      <td>60</td>\n",
              "      <td>Some major design flaws</td>\n",
              "      <td>I had such high hopes for this dress and reall...</td>\n",
              "      <td>3</td>\n",
              "      <td>0</td>\n",
              "      <td>0</td>\n",
              "      <td>General</td>\n",
              "      <td>Dresses</td>\n",
              "      <td>Dresses</td>\n",
              "      <td>221</td>\n",
              "    </tr>\n",
              "    <tr>\n",
              "      <th>3</th>\n",
              "      <td>3</td>\n",
              "      <td>1049</td>\n",
              "      <td>50</td>\n",
              "      <td>My favorite buy!</td>\n",
              "      <td>I love, love, love this jumpsuit. it's fun, fl...</td>\n",
              "      <td>5</td>\n",
              "      <td>1</td>\n",
              "      <td>0</td>\n",
              "      <td>General Petite</td>\n",
              "      <td>Bottoms</td>\n",
              "      <td>Pants</td>\n",
              "      <td>25</td>\n",
              "    </tr>\n",
              "    <tr>\n",
              "      <th>5</th>\n",
              "      <td>5</td>\n",
              "      <td>1080</td>\n",
              "      <td>49</td>\n",
              "      <td>Not for the very petite</td>\n",
              "      <td>I love tracy reese dresses, but this one is no...</td>\n",
              "      <td>2</td>\n",
              "      <td>0</td>\n",
              "      <td>4</td>\n",
              "      <td>General</td>\n",
              "      <td>Dresses</td>\n",
              "      <td>Dresses</td>\n",
              "      <td>222</td>\n",
              "    </tr>\n",
              "    <tr>\n",
              "      <th>6</th>\n",
              "      <td>6</td>\n",
              "      <td>858</td>\n",
              "      <td>39</td>\n",
              "      <td>Cagrcoal shimmer fun</td>\n",
              "      <td>I aded this in my basket at hte last mintue to...</td>\n",
              "      <td>5</td>\n",
              "      <td>1</td>\n",
              "      <td>1</td>\n",
              "      <td>General Petite</td>\n",
              "      <td>Tops</td>\n",
              "      <td>Knits</td>\n",
              "      <td>18</td>\n",
              "    </tr>\n",
              "    <tr>\n",
              "      <th>7</th>\n",
              "      <td>7</td>\n",
              "      <td>858</td>\n",
              "      <td>39</td>\n",
              "      <td>Shimmer, surprisingly goes with lots</td>\n",
              "      <td>I ordered this in carbon for store pick up, an...</td>\n",
              "      <td>4</td>\n",
              "      <td>1</td>\n",
              "      <td>4</td>\n",
              "      <td>General Petite</td>\n",
              "      <td>Tops</td>\n",
              "      <td>Knits</td>\n",
              "      <td>18</td>\n",
              "    </tr>\n",
              "  </tbody>\n",
              "</table>\n",
              "</div>\n",
              "      <button class=\"colab-df-convert\" onclick=\"convertToInteractive('df-d1bd13dd-240d-4a13-aab0-9b8b4b6d8c9a')\"\n",
              "              title=\"Convert this dataframe to an interactive table.\"\n",
              "              style=\"display:none;\">\n",
              "        \n",
              "  <svg xmlns=\"http://www.w3.org/2000/svg\" height=\"24px\"viewBox=\"0 0 24 24\"\n",
              "       width=\"24px\">\n",
              "    <path d=\"M0 0h24v24H0V0z\" fill=\"none\"/>\n",
              "    <path d=\"M18.56 5.44l.94 2.06.94-2.06 2.06-.94-2.06-.94-.94-2.06-.94 2.06-2.06.94zm-11 1L8.5 8.5l.94-2.06 2.06-.94-2.06-.94L8.5 2.5l-.94 2.06-2.06.94zm10 10l.94 2.06.94-2.06 2.06-.94-2.06-.94-.94-2.06-.94 2.06-2.06.94z\"/><path d=\"M17.41 7.96l-1.37-1.37c-.4-.4-.92-.59-1.43-.59-.52 0-1.04.2-1.43.59L10.3 9.45l-7.72 7.72c-.78.78-.78 2.05 0 2.83L4 21.41c.39.39.9.59 1.41.59.51 0 1.02-.2 1.41-.59l7.78-7.78 2.81-2.81c.8-.78.8-2.07 0-2.86zM5.41 20L4 18.59l7.72-7.72 1.47 1.35L5.41 20z\"/>\n",
              "  </svg>\n",
              "      </button>\n",
              "      \n",
              "  <style>\n",
              "    .colab-df-container {\n",
              "      display:flex;\n",
              "      flex-wrap:wrap;\n",
              "      gap: 12px;\n",
              "    }\n",
              "\n",
              "    .colab-df-convert {\n",
              "      background-color: #E8F0FE;\n",
              "      border: none;\n",
              "      border-radius: 50%;\n",
              "      cursor: pointer;\n",
              "      display: none;\n",
              "      fill: #1967D2;\n",
              "      height: 32px;\n",
              "      padding: 0 0 0 0;\n",
              "      width: 32px;\n",
              "    }\n",
              "\n",
              "    .colab-df-convert:hover {\n",
              "      background-color: #E2EBFA;\n",
              "      box-shadow: 0px 1px 2px rgba(60, 64, 67, 0.3), 0px 1px 3px 1px rgba(60, 64, 67, 0.15);\n",
              "      fill: #174EA6;\n",
              "    }\n",
              "\n",
              "    [theme=dark] .colab-df-convert {\n",
              "      background-color: #3B4455;\n",
              "      fill: #D2E3FC;\n",
              "    }\n",
              "\n",
              "    [theme=dark] .colab-df-convert:hover {\n",
              "      background-color: #434B5C;\n",
              "      box-shadow: 0px 1px 3px 1px rgba(0, 0, 0, 0.15);\n",
              "      filter: drop-shadow(0px 1px 2px rgba(0, 0, 0, 0.3));\n",
              "      fill: #FFFFFF;\n",
              "    }\n",
              "  </style>\n",
              "\n",
              "      <script>\n",
              "        const buttonEl =\n",
              "          document.querySelector('#df-d1bd13dd-240d-4a13-aab0-9b8b4b6d8c9a button.colab-df-convert');\n",
              "        buttonEl.style.display =\n",
              "          google.colab.kernel.accessAllowed ? 'block' : 'none';\n",
              "\n",
              "        async function convertToInteractive(key) {\n",
              "          const element = document.querySelector('#df-d1bd13dd-240d-4a13-aab0-9b8b4b6d8c9a');\n",
              "          const dataTable =\n",
              "            await google.colab.kernel.invokeFunction('convertToInteractive',\n",
              "                                                     [key], {});\n",
              "          if (!dataTable) return;\n",
              "\n",
              "          const docLinkHtml = 'Like what you see? Visit the ' +\n",
              "            '<a target=\"_blank\" href=https://colab.research.google.com/notebooks/data_table.ipynb>data table notebook</a>'\n",
              "            + ' to learn more about interactive tables.';\n",
              "          element.innerHTML = '';\n",
              "          dataTable['output_type'] = 'display_data';\n",
              "          await google.colab.output.renderOutput(dataTable, element);\n",
              "          const docLink = document.createElement('div');\n",
              "          docLink.innerHTML = docLinkHtml;\n",
              "          element.appendChild(docLink);\n",
              "        }\n",
              "      </script>\n",
              "    </div>\n",
              "  </div>\n",
              "  "
            ]
          },
          "metadata": {},
          "execution_count": 256
        }
      ]
    },
    {
      "cell_type": "markdown",
      "source": [
        "# 1.3 Clean the data and remove the special characters and replace the \n",
        "# contractions with its expansion. Convert the uppercase character to lower \n",
        "## case. Also, remove the punctuations.\n"
      ],
      "metadata": {
        "id": "4liSwgo5DVLy"
      }
    },
    {
      "cell_type": "code",
      "source": [
        "# creating a dictionary with contractions and their expansions\n",
        "contractions = {\n",
        "\"a'ight\":\"alright\",\n",
        "\"ain't\":\"are not\",\n",
        "\"amn't\":\"am not\",\n",
        "\"aren't\":\"are not\",\n",
        "\"can't\":\"cannot\",\n",
        "\"'cause\": \"because\",\n",
        "\"could've\":\"could have\",\n",
        "\"couldn't\":\"could not\",\n",
        "\"couldn't've\":\"could not have\",\n",
        "\"daren't\":\"dare not\",\n",
        "\"daresn't\":\"dare not\",\n",
        "\"dasn't\":\"dare not\",\n",
        "\"didn't\":\"did not\",\n",
        "\"doesn't\":\"does not\",\n",
        "\"don't\":\"do not\",\n",
        "\"everybody's\":\"everybody is\",\n",
        "\"everyone's\":\"everyone is\",\n",
        "\"giv'n\":\"given\",\n",
        "\"gonna\":\"going to\",\n",
        "\"gon't\":\"go not\", \n",
        "\"gotta\":\"got to\",\n",
        "\"hadn't\":\"had not\",\n",
        "\"had've\":\"had have\",\n",
        "\"hasn't\":\"has not\",\n",
        "\"haven't\":\"have not\",\n",
        "\"he'd\":\"he had\", \n",
        "\"he'll\":\"he will\",\n",
        "\"he's\":\"he is\",\n",
        "\"here's\":\"here is\",\n",
        "\"how'd\":\"how did\",\n",
        "\"how'll\":\"how will\",\n",
        "\"how're\":\"how are\",\n",
        "\"how's\":\"how is\",\n",
        "\"I'd\":\"I had\",\n",
        "\"I'd've\":\"I would have\",\n",
        "\"I'd'nt\":\"I would not\",\n",
        "\"I'd'nt've\":\"I would not have\",\n",
        "\"I'll\":\"I will\",\n",
        "\"I'm\":\"I am\",\n",
        "\"I've\":\"I have\",\n",
        "\"isn't\":\"is not\",\n",
        "\"it'd\":\"it would\",\n",
        "\"it'll\":\"it will\",\n",
        "\"it's\":\"it is\",\n",
        "\"let's\":\"let us\",\n",
        "\"ma'am\":\"madam\",\n",
        "\"mayn't\":\"may not\",\n",
        "\"may've\":\"may have\",\n",
        "\"mightn't\":\"might not\",\n",
        "\"might've\":\"might have\",\n",
        "\"mustn't\":\"must not\",\n",
        "\"mustn't've\":\"must not have\",\n",
        "\"must've\":\"must have\",\n",
        "\"needn't\":\"need not\",\n",
        "\"needn't've\":\"need not have\",\n",
        "\"o'clock\":\"of the clock\",\n",
        "\"oughtn't\":\"ought not\",\n",
        "\"oughtn't've\":\"ought not have\",\n",
        "\"shan't\":\"shall not\",\n",
        "\"she'd\":\"she would\",\n",
        "\"she'll\":\"she will\",\n",
        "\"she's\":\"she is\",\n",
        "\"should've\":\"should have\",\n",
        "\"shouldn't\":\"should not\",\n",
        "\"shouldn't've\":\"should not have\",\n",
        "\"somebody's\":\"somebody is\",\n",
        "\"someone's\":\"someone is\",\n",
        "\"something's\":\"something is\",\n",
        "\"so're\":\"so are\",\n",
        "\"so’s\":\"so is\",\n",
        "\"so’ve\":\"so have\",\n",
        "\"that'll\":\"that will\",\n",
        "\"that're\":\"that are\",\n",
        "\"that's\":\"that is\",\n",
        "\"that'd\":\"that would\",\n",
        "\"there'd\":\"there would\",\n",
        "\"there'll\":\"there will\",\n",
        "\"there're\":\"there are\",\n",
        "\"there's\":\"there is\",\n",
        "\"these're\":\"these are\",\n",
        "\"these've\":\"these have\",\n",
        "\"they'd\":\"they would\",\n",
        "\"they'll\":\"they will\",\n",
        "\"they're\":\"they are\",\n",
        "\"they've\":\"they have\",\n",
        "\"this's\":\"this is\",\n",
        "\"those're\":\"those are\",\n",
        "\"those've\":\"those have\",\n",
        "\"to've\":\"to have\",\n",
        "\"wasn't\":\"was not\",\n",
        "\"we'd\":\"we would\",\n",
        "\"we'd've\":\"we would have\",\n",
        "\"we'll\":\"we will\",\n",
        "\"we're\":\"we are\",\n",
        "\"we've\":\"we have\",\n",
        "\"weren't\":\"were not\",\n",
        "\"what'd\":\"what did\",\n",
        "\"what'll\":\"what will\",\n",
        "\"what're\":\"what are\",\n",
        "\"what's\":\"what is\",\n",
        "\"what've\":\"what have\",\n",
        "\"when's\":\"when is\",\n",
        "\"where'd\":\"where did\",\n",
        "\"where'll\":\"where will\",\n",
        "\"where're\":\"where are\",\n",
        "\"where's\":\"where is\",\n",
        "\"where've\":\"where have\",\n",
        "\"which'd\":\"which would\",\n",
        "\"which'll\":\"which will\",\n",
        "\"which're\":\"which are\",\n",
        "\"which's\":\"which is\",\n",
        "\"which've\":\"which have\",\n",
        "\"who'd\":\"who would\",\n",
        "\"who'd've\":\"who would have\",\n",
        "\"who'll\":\"who will\",\n",
        "\"who're\":\"who are\",\n",
        "\"who's\":\"who is\",\n",
        "\"who've\":\"who have\",\n",
        "\"why'd\":\"why did\",\n",
        "\"why're\":\"why are\",\n",
        "\"why's\":\"why is\",\n",
        "\"won't\":\"will not\",\n",
        "\"would've\":\"would have\",\n",
        "\"wouldn't\":\"would not\",\n",
        "\"wouldn't've\":\"would not have\",\n",
        "\"y'at\":\"you at\",\n",
        "\"yes’m\":\"yes madam\",\n",
        "\"you'd\":\"you would\",\n",
        "\"you'll\":\"you will\",\n",
        "\"you're\":\"you are\",\n",
        "\"you've\":\"you have\"}"
      ],
      "metadata": {
        "id": "ukw7N5AzNsod"
      },
      "execution_count": null,
      "outputs": []
    },
    {
      "cell_type": "code",
      "source": [
        "#defining a function to convert contractions to expansions\n",
        "def cont_to_exp(x):\n",
        "    if type(x) is str:\n",
        "        x = x.replace('\\\\','')\n",
        "        for key in contractions:\n",
        "            value = contractions[key]\n",
        "            x = x.replace(key, value)\n",
        "        return x\n",
        "    else:\n",
        "        return x"
      ],
      "metadata": {
        "id": "H0LW8E6cOEvQ"
      },
      "execution_count": null,
      "outputs": []
    },
    {
      "cell_type": "code",
      "source": [
        "# using the above function to convert contraction to expansion in every tuple of the 'Review Text' column\n",
        "df['Review Text'] = df['Review Text'].apply(lambda x:cont_to_exp(x))"
      ],
      "metadata": {
        "id": "E9WUF3OaOJIl"
      },
      "execution_count": null,
      "outputs": []
    },
    {
      "cell_type": "code",
      "source": [
        "#defining a function to remove special charachters\n",
        "def Elimination_of_Special_chars(text):\n",
        "    special_chars = '''!()-[]{};:'\"\\,<>./?@#$%^&*_~'''\n",
        "    if type(text) is str:\n",
        "        for p in special_chars:\n",
        "            text = text.replace(p, '')\n",
        "        return text\n",
        "    else:\n",
        "        return text"
      ],
      "metadata": {
        "id": "Max-Zi3hPQ1j"
      },
      "execution_count": null,
      "outputs": []
    },
    {
      "cell_type": "code",
      "source": [
        "# using the above function to remove special charachters in every tuple of the 'Review Text' column\n",
        "df['Review Text'] = df['Review Text'].apply(lambda x:Elimination_of_Special_chars(x))"
      ],
      "metadata": {
        "id": "-7G3wCwMPf5z"
      },
      "execution_count": null,
      "outputs": []
    },
    {
      "cell_type": "code",
      "source": [
        "#defining a function to convert uppercase to lowercase\n",
        "def Convert_to_lower(x):\n",
        "    if type(x) is str:\n",
        "        return x.lower()\n",
        "    else:\n",
        "        return x"
      ],
      "metadata": {
        "id": "_Hg3vJIiOLk2"
      },
      "execution_count": null,
      "outputs": []
    },
    {
      "cell_type": "code",
      "source": [
        "# using the above function to convert uppercase to lowercase in every tuple of the 'Review Text' column\n",
        "df['Review Text'] = df['Review Text'].apply(lambda x:Convert_to_lower(x))"
      ],
      "metadata": {
        "id": "U7GEmHA1O_8X"
      },
      "execution_count": null,
      "outputs": []
    },
    {
      "cell_type": "code",
      "source": [
        "#defining a function to remove punctuations\n",
        "import string\n",
        "def Punctuations_Removal(text):\n",
        "    if type(text) is str:\n",
        "        for p in string.punctuation:\n",
        "            text = text.replace(p, '')\n",
        "        return text\n",
        "    else:\n",
        "        return text "
      ],
      "metadata": {
        "id": "Y-U5907CPFPP"
      },
      "execution_count": null,
      "outputs": []
    },
    {
      "cell_type": "code",
      "source": [
        "# using the above function to remove punctuations in every tuple of the 'Review Text' column\n",
        "df['Review Text'] = df['Review Text'].apply(lambda x:Punctuations_Removal(x))"
      ],
      "metadata": {
        "id": "4qWQHo5vPOHg"
      },
      "execution_count": null,
      "outputs": []
    },
    {
      "cell_type": "code",
      "source": [
        "#from textblob importing TextBlob for sentimental analysis of the data\n",
        "from textblob import TextBlob"
      ],
      "metadata": {
        "id": "u_kbZfnSP4Ma"
      },
      "execution_count": null,
      "outputs": []
    },
    {
      "cell_type": "code",
      "source": [
        "#creating separate columns for polarity,review length and word count \n",
        "df['polarity'] = df['Review Text'].apply(lambda x: TextBlob(x).sentiment.polarity)\n",
        "df['review_len'] = df['Review Text'].apply(lambda x:len(x))\n",
        "df['word_count'] = df['Review Text'].apply(lambda x: len(x.split()))"
      ],
      "metadata": {
        "id": "XkXBTcheP7Ho"
      },
      "execution_count": null,
      "outputs": []
    },
    {
      "cell_type": "code",
      "source": [
        "#defining function to calculate average word length\n",
        "def get_avg_word_len(x):\n",
        "    words = x.split()\n",
        "    word_len = 0\n",
        "    for word in words:\n",
        "        word_len = word_len + len(word)\n",
        "        \n",
        "    return word_len/len(words)    "
      ],
      "metadata": {
        "id": "AR-P4ZNiQCE7"
      },
      "execution_count": null,
      "outputs": []
    },
    {
      "cell_type": "code",
      "source": [
        "# using the above function to calculate average word length in every tuple of the 'Review Text' column\n",
        "df[\"avg_word_len\"] = df['Review Text'].apply(lambda x: get_avg_word_len(x))"
      ],
      "metadata": {
        "id": "YuuMeUFGQJrN"
      },
      "execution_count": null,
      "outputs": []
    },
    {
      "cell_type": "code",
      "source": [
        "df.head()"
      ],
      "metadata": {
        "colab": {
          "base_uri": "https://localhost:8080/",
          "height": 843
        },
        "id": "G64rrhoeQLZP",
        "outputId": "4d66c4ec-02f8-4ba3-f28d-2e54997c5a6c"
      },
      "execution_count": null,
      "outputs": [
        {
          "output_type": "execute_result",
          "data": {
            "text/plain": [
              "   Unnamed: 0  Clothing ID  Age                                 Title  \\\n",
              "2           2         1077   60               Some major design flaws   \n",
              "3           3         1049   50                      My favorite buy!   \n",
              "5           5         1080   49               Not for the very petite   \n",
              "6           6          858   39                  Cagrcoal shimmer fun   \n",
              "7           7          858   39  Shimmer, surprisingly goes with lots   \n",
              "\n",
              "                                         Review Text  Rating  Recommended IND  \\\n",
              "2  i had such high hopes for this dress and reall...       3                0   \n",
              "3  i love love love this jumpsuit it is fun flirt...       5                1   \n",
              "5  i love tracy reese dresses but this one is not...       2                0   \n",
              "6  i aded this in my basket at hte last mintue to...       5                1   \n",
              "7  i ordered this in carbon for store pick up and...       4                1   \n",
              "\n",
              "   Positive Feedback Count   Division Name Department Name Class Name  \\\n",
              "2                        0         General         Dresses    Dresses   \n",
              "3                        0  General Petite         Bottoms      Pants   \n",
              "5                        4         General         Dresses    Dresses   \n",
              "6                        1  General Petite            Tops      Knits   \n",
              "7                        4  General Petite            Tops      Knits   \n",
              "\n",
              "   Total_count  polarity  review_len  word_count  avg_word_len  \n",
              "2          221  0.076392         486          97      4.010309  \n",
              "3           25  0.500000         117          23      4.130435  \n",
              "5          222  0.178750         479          98      3.897959  \n",
              "6           18  0.060500         474          99      3.777778  \n",
              "7           18  0.171635         463          98      3.734694  "
            ],
            "text/html": [
              "\n",
              "  <div id=\"df-168f3a51-a393-4235-b265-15fb955d65f9\">\n",
              "    <div class=\"colab-df-container\">\n",
              "      <div>\n",
              "<style scoped>\n",
              "    .dataframe tbody tr th:only-of-type {\n",
              "        vertical-align: middle;\n",
              "    }\n",
              "\n",
              "    .dataframe tbody tr th {\n",
              "        vertical-align: top;\n",
              "    }\n",
              "\n",
              "    .dataframe thead th {\n",
              "        text-align: right;\n",
              "    }\n",
              "</style>\n",
              "<table border=\"1\" class=\"dataframe\">\n",
              "  <thead>\n",
              "    <tr style=\"text-align: right;\">\n",
              "      <th></th>\n",
              "      <th>Unnamed: 0</th>\n",
              "      <th>Clothing ID</th>\n",
              "      <th>Age</th>\n",
              "      <th>Title</th>\n",
              "      <th>Review Text</th>\n",
              "      <th>Rating</th>\n",
              "      <th>Recommended IND</th>\n",
              "      <th>Positive Feedback Count</th>\n",
              "      <th>Division Name</th>\n",
              "      <th>Department Name</th>\n",
              "      <th>Class Name</th>\n",
              "      <th>Total_count</th>\n",
              "      <th>polarity</th>\n",
              "      <th>review_len</th>\n",
              "      <th>word_count</th>\n",
              "      <th>avg_word_len</th>\n",
              "    </tr>\n",
              "  </thead>\n",
              "  <tbody>\n",
              "    <tr>\n",
              "      <th>2</th>\n",
              "      <td>2</td>\n",
              "      <td>1077</td>\n",
              "      <td>60</td>\n",
              "      <td>Some major design flaws</td>\n",
              "      <td>i had such high hopes for this dress and reall...</td>\n",
              "      <td>3</td>\n",
              "      <td>0</td>\n",
              "      <td>0</td>\n",
              "      <td>General</td>\n",
              "      <td>Dresses</td>\n",
              "      <td>Dresses</td>\n",
              "      <td>221</td>\n",
              "      <td>0.076392</td>\n",
              "      <td>486</td>\n",
              "      <td>97</td>\n",
              "      <td>4.010309</td>\n",
              "    </tr>\n",
              "    <tr>\n",
              "      <th>3</th>\n",
              "      <td>3</td>\n",
              "      <td>1049</td>\n",
              "      <td>50</td>\n",
              "      <td>My favorite buy!</td>\n",
              "      <td>i love love love this jumpsuit it is fun flirt...</td>\n",
              "      <td>5</td>\n",
              "      <td>1</td>\n",
              "      <td>0</td>\n",
              "      <td>General Petite</td>\n",
              "      <td>Bottoms</td>\n",
              "      <td>Pants</td>\n",
              "      <td>25</td>\n",
              "      <td>0.500000</td>\n",
              "      <td>117</td>\n",
              "      <td>23</td>\n",
              "      <td>4.130435</td>\n",
              "    </tr>\n",
              "    <tr>\n",
              "      <th>5</th>\n",
              "      <td>5</td>\n",
              "      <td>1080</td>\n",
              "      <td>49</td>\n",
              "      <td>Not for the very petite</td>\n",
              "      <td>i love tracy reese dresses but this one is not...</td>\n",
              "      <td>2</td>\n",
              "      <td>0</td>\n",
              "      <td>4</td>\n",
              "      <td>General</td>\n",
              "      <td>Dresses</td>\n",
              "      <td>Dresses</td>\n",
              "      <td>222</td>\n",
              "      <td>0.178750</td>\n",
              "      <td>479</td>\n",
              "      <td>98</td>\n",
              "      <td>3.897959</td>\n",
              "    </tr>\n",
              "    <tr>\n",
              "      <th>6</th>\n",
              "      <td>6</td>\n",
              "      <td>858</td>\n",
              "      <td>39</td>\n",
              "      <td>Cagrcoal shimmer fun</td>\n",
              "      <td>i aded this in my basket at hte last mintue to...</td>\n",
              "      <td>5</td>\n",
              "      <td>1</td>\n",
              "      <td>1</td>\n",
              "      <td>General Petite</td>\n",
              "      <td>Tops</td>\n",
              "      <td>Knits</td>\n",
              "      <td>18</td>\n",
              "      <td>0.060500</td>\n",
              "      <td>474</td>\n",
              "      <td>99</td>\n",
              "      <td>3.777778</td>\n",
              "    </tr>\n",
              "    <tr>\n",
              "      <th>7</th>\n",
              "      <td>7</td>\n",
              "      <td>858</td>\n",
              "      <td>39</td>\n",
              "      <td>Shimmer, surprisingly goes with lots</td>\n",
              "      <td>i ordered this in carbon for store pick up and...</td>\n",
              "      <td>4</td>\n",
              "      <td>1</td>\n",
              "      <td>4</td>\n",
              "      <td>General Petite</td>\n",
              "      <td>Tops</td>\n",
              "      <td>Knits</td>\n",
              "      <td>18</td>\n",
              "      <td>0.171635</td>\n",
              "      <td>463</td>\n",
              "      <td>98</td>\n",
              "      <td>3.734694</td>\n",
              "    </tr>\n",
              "  </tbody>\n",
              "</table>\n",
              "</div>\n",
              "      <button class=\"colab-df-convert\" onclick=\"convertToInteractive('df-168f3a51-a393-4235-b265-15fb955d65f9')\"\n",
              "              title=\"Convert this dataframe to an interactive table.\"\n",
              "              style=\"display:none;\">\n",
              "        \n",
              "  <svg xmlns=\"http://www.w3.org/2000/svg\" height=\"24px\"viewBox=\"0 0 24 24\"\n",
              "       width=\"24px\">\n",
              "    <path d=\"M0 0h24v24H0V0z\" fill=\"none\"/>\n",
              "    <path d=\"M18.56 5.44l.94 2.06.94-2.06 2.06-.94-2.06-.94-.94-2.06-.94 2.06-2.06.94zm-11 1L8.5 8.5l.94-2.06 2.06-.94-2.06-.94L8.5 2.5l-.94 2.06-2.06.94zm10 10l.94 2.06.94-2.06 2.06-.94-2.06-.94-.94-2.06-.94 2.06-2.06.94z\"/><path d=\"M17.41 7.96l-1.37-1.37c-.4-.4-.92-.59-1.43-.59-.52 0-1.04.2-1.43.59L10.3 9.45l-7.72 7.72c-.78.78-.78 2.05 0 2.83L4 21.41c.39.39.9.59 1.41.59.51 0 1.02-.2 1.41-.59l7.78-7.78 2.81-2.81c.8-.78.8-2.07 0-2.86zM5.41 20L4 18.59l7.72-7.72 1.47 1.35L5.41 20z\"/>\n",
              "  </svg>\n",
              "      </button>\n",
              "      \n",
              "  <style>\n",
              "    .colab-df-container {\n",
              "      display:flex;\n",
              "      flex-wrap:wrap;\n",
              "      gap: 12px;\n",
              "    }\n",
              "\n",
              "    .colab-df-convert {\n",
              "      background-color: #E8F0FE;\n",
              "      border: none;\n",
              "      border-radius: 50%;\n",
              "      cursor: pointer;\n",
              "      display: none;\n",
              "      fill: #1967D2;\n",
              "      height: 32px;\n",
              "      padding: 0 0 0 0;\n",
              "      width: 32px;\n",
              "    }\n",
              "\n",
              "    .colab-df-convert:hover {\n",
              "      background-color: #E2EBFA;\n",
              "      box-shadow: 0px 1px 2px rgba(60, 64, 67, 0.3), 0px 1px 3px 1px rgba(60, 64, 67, 0.15);\n",
              "      fill: #174EA6;\n",
              "    }\n",
              "\n",
              "    [theme=dark] .colab-df-convert {\n",
              "      background-color: #3B4455;\n",
              "      fill: #D2E3FC;\n",
              "    }\n",
              "\n",
              "    [theme=dark] .colab-df-convert:hover {\n",
              "      background-color: #434B5C;\n",
              "      box-shadow: 0px 1px 3px 1px rgba(0, 0, 0, 0.15);\n",
              "      filter: drop-shadow(0px 1px 2px rgba(0, 0, 0, 0.3));\n",
              "      fill: #FFFFFF;\n",
              "    }\n",
              "  </style>\n",
              "\n",
              "      <script>\n",
              "        const buttonEl =\n",
              "          document.querySelector('#df-168f3a51-a393-4235-b265-15fb955d65f9 button.colab-df-convert');\n",
              "        buttonEl.style.display =\n",
              "          google.colab.kernel.accessAllowed ? 'block' : 'none';\n",
              "\n",
              "        async function convertToInteractive(key) {\n",
              "          const element = document.querySelector('#df-168f3a51-a393-4235-b265-15fb955d65f9');\n",
              "          const dataTable =\n",
              "            await google.colab.kernel.invokeFunction('convertToInteractive',\n",
              "                                                     [key], {});\n",
              "          if (!dataTable) return;\n",
              "\n",
              "          const docLinkHtml = 'Like what you see? Visit the ' +\n",
              "            '<a target=\"_blank\" href=https://colab.research.google.com/notebooks/data_table.ipynb>data table notebook</a>'\n",
              "            + ' to learn more about interactive tables.';\n",
              "          element.innerHTML = '';\n",
              "          dataTable['output_type'] = 'display_data';\n",
              "          await google.colab.output.renderOutput(dataTable, element);\n",
              "          const docLink = document.createElement('div');\n",
              "          docLink.innerHTML = docLinkHtml;\n",
              "          element.appendChild(docLink);\n",
              "        }\n",
              "      </script>\n",
              "    </div>\n",
              "  </div>\n",
              "  "
            ]
          },
          "metadata": {},
          "execution_count": 270
        }
      ]
    },
    {
      "cell_type": "code",
      "source": [
        "#plotting heatmap using seaborn\n",
        "plt.subplots(figsize=(10,10)) \n",
        "sns.heatmap(df.corr(), cmap=\"YlGnBu\", annot=True)"
      ],
      "metadata": {
        "colab": {
          "base_uri": "https://localhost:8080/",
          "height": 725
        },
        "id": "cAw71PCzBOfk",
        "outputId": "e6817557-9119-4fa7-eef0-4209e511b8f7"
      },
      "execution_count": null,
      "outputs": [
        {
          "output_type": "execute_result",
          "data": {
            "text/plain": [
              "<matplotlib.axes._subplots.AxesSubplot at 0x7f94bccb6710>"
            ]
          },
          "metadata": {},
          "execution_count": 271
        },
        {
          "output_type": "display_data",
          "data": {
            "text/plain": [
              "<Figure size 720x720 with 2 Axes>"
            ],
            "image/png": "[encoded data removed]"
          },
          "metadata": {
            "needs_background": "light"
          }
        }
      ]
    },
    {
      "cell_type": "code",
      "source": [
        "#dropping irrelevant attributes\n",
        "df = df.drop(columns=['Unnamed: 0', 'Clothing ID', 'Total_count', 'Review Text', 'Title', 'Department Name', 'Division Name', 'Class Name'])"
      ],
      "metadata": {
        "id": "zwuOITRyQPaP"
      },
      "execution_count": null,
      "outputs": []
    },
    {
      "cell_type": "code",
      "source": [
        "#displaying final dataset after preprocessing\n",
        "df.head()"
      ],
      "metadata": {
        "colab": {
          "base_uri": "https://localhost:8080/",
          "height": 206
        },
        "id": "2ILCVQlWQT1w",
        "outputId": "4e62f761-0588-440a-ee38-6b00b18b40a6"
      },
      "execution_count": null,
      "outputs": [
        {
          "output_type": "execute_result",
          "data": {
            "text/plain": [
              "   Age  Rating  Recommended IND  Positive Feedback Count  polarity  \\\n",
              "2   60       3                0                        0  0.076392   \n",
              "3   50       5                1                        0  0.500000   \n",
              "5   49       2                0                        4  0.178750   \n",
              "6   39       5                1                        1  0.060500   \n",
              "7   39       4                1                        4  0.171635   \n",
              "\n",
              "   review_len  word_count  avg_word_len  \n",
              "2         486          97      4.010309  \n",
              "3         117          23      4.130435  \n",
              "5         479          98      3.897959  \n",
              "6         474          99      3.777778  \n",
              "7         463          98      3.734694  "
            ],
            "text/html": [
              "\n",
              "  <div id=\"df-36af261b-a34e-4d97-a5f1-2522b16d52de\">\n",
              "    <div class=\"colab-df-container\">\n",
              "      <div>\n",
              "<style scoped>\n",
              "    .dataframe tbody tr th:only-of-type {\n",
              "        vertical-align: middle;\n",
              "    }\n",
              "\n",
              "    .dataframe tbody tr th {\n",
              "        vertical-align: top;\n",
              "    }\n",
              "\n",
              "    .dataframe thead th {\n",
              "        text-align: right;\n",
              "    }\n",
              "</style>\n",
              "<table border=\"1\" class=\"dataframe\">\n",
              "  <thead>\n",
              "    <tr style=\"text-align: right;\">\n",
              "      <th></th>\n",
              "      <th>Age</th>\n",
              "      <th>Rating</th>\n",
              "      <th>Recommended IND</th>\n",
              "      <th>Positive Feedback Count</th>\n",
              "      <th>polarity</th>\n",
              "      <th>review_len</th>\n",
              "      <th>word_count</th>\n",
              "      <th>avg_word_len</th>\n",
              "    </tr>\n",
              "  </thead>\n",
              "  <tbody>\n",
              "    <tr>\n",
              "      <th>2</th>\n",
              "      <td>60</td>\n",
              "      <td>3</td>\n",
              "      <td>0</td>\n",
              "      <td>0</td>\n",
              "      <td>0.076392</td>\n",
              "      <td>486</td>\n",
              "      <td>97</td>\n",
              "      <td>4.010309</td>\n",
              "    </tr>\n",
              "    <tr>\n",
              "      <th>3</th>\n",
              "      <td>50</td>\n",
              "      <td>5</td>\n",
              "      <td>1</td>\n",
              "      <td>0</td>\n",
              "      <td>0.500000</td>\n",
              "      <td>117</td>\n",
              "      <td>23</td>\n",
              "      <td>4.130435</td>\n",
              "    </tr>\n",
              "    <tr>\n",
              "      <th>5</th>\n",
              "      <td>49</td>\n",
              "      <td>2</td>\n",
              "      <td>0</td>\n",
              "      <td>4</td>\n",
              "      <td>0.178750</td>\n",
              "      <td>479</td>\n",
              "      <td>98</td>\n",
              "      <td>3.897959</td>\n",
              "    </tr>\n",
              "    <tr>\n",
              "      <th>6</th>\n",
              "      <td>39</td>\n",
              "      <td>5</td>\n",
              "      <td>1</td>\n",
              "      <td>1</td>\n",
              "      <td>0.060500</td>\n",
              "      <td>474</td>\n",
              "      <td>99</td>\n",
              "      <td>3.777778</td>\n",
              "    </tr>\n",
              "    <tr>\n",
              "      <th>7</th>\n",
              "      <td>39</td>\n",
              "      <td>4</td>\n",
              "      <td>1</td>\n",
              "      <td>4</td>\n",
              "      <td>0.171635</td>\n",
              "      <td>463</td>\n",
              "      <td>98</td>\n",
              "      <td>3.734694</td>\n",
              "    </tr>\n",
              "  </tbody>\n",
              "</table>\n",
              "</div>\n",
              "      <button class=\"colab-df-convert\" onclick=\"convertToInteractive('df-36af261b-a34e-4d97-a5f1-2522b16d52de')\"\n",
              "              title=\"Convert this dataframe to an interactive table.\"\n",
              "              style=\"display:none;\">\n",
              "        \n",
              "  <svg xmlns=\"http://www.w3.org/2000/svg\" height=\"24px\"viewBox=\"0 0 24 24\"\n",
              "       width=\"24px\">\n",
              "    <path d=\"M0 0h24v24H0V0z\" fill=\"none\"/>\n",
              "    <path d=\"M18.56 5.44l.94 2.06.94-2.06 2.06-.94-2.06-.94-.94-2.06-.94 2.06-2.06.94zm-11 1L8.5 8.5l.94-2.06 2.06-.94-2.06-.94L8.5 2.5l-.94 2.06-2.06.94zm10 10l.94 2.06.94-2.06 2.06-.94-2.06-.94-.94-2.06-.94 2.06-2.06.94z\"/><path d=\"M17.41 7.96l-1.37-1.37c-.4-.4-.92-.59-1.43-.59-.52 0-1.04.2-1.43.59L10.3 9.45l-7.72 7.72c-.78.78-.78 2.05 0 2.83L4 21.41c.39.39.9.59 1.41.59.51 0 1.02-.2 1.41-.59l7.78-7.78 2.81-2.81c.8-.78.8-2.07 0-2.86zM5.41 20L4 18.59l7.72-7.72 1.47 1.35L5.41 20z\"/>\n",
              "  </svg>\n",
              "      </button>\n",
              "      \n",
              "  <style>\n",
              "    .colab-df-container {\n",
              "      display:flex;\n",
              "      flex-wrap:wrap;\n",
              "      gap: 12px;\n",
              "    }\n",
              "\n",
              "    .colab-df-convert {\n",
              "      background-color: #E8F0FE;\n",
              "      border: none;\n",
              "      border-radius: 50%;\n",
              "      cursor: pointer;\n",
              "      display: none;\n",
              "      fill: #1967D2;\n",
              "      height: 32px;\n",
              "      padding: 0 0 0 0;\n",
              "      width: 32px;\n",
              "    }\n",
              "\n",
              "    .colab-df-convert:hover {\n",
              "      background-color: #E2EBFA;\n",
              "      box-shadow: 0px 1px 2px rgba(60, 64, 67, 0.3), 0px 1px 3px 1px rgba(60, 64, 67, 0.15);\n",
              "      fill: #174EA6;\n",
              "    }\n",
              "\n",
              "    [theme=dark] .colab-df-convert {\n",
              "      background-color: #3B4455;\n",
              "      fill: #D2E3FC;\n",
              "    }\n",
              "\n",
              "    [theme=dark] .colab-df-convert:hover {\n",
              "      background-color: #434B5C;\n",
              "      box-shadow: 0px 1px 3px 1px rgba(0, 0, 0, 0.15);\n",
              "      filter: drop-shadow(0px 1px 2px rgba(0, 0, 0, 0.3));\n",
              "      fill: #FFFFFF;\n",
              "    }\n",
              "  </style>\n",
              "\n",
              "      <script>\n",
              "        const buttonEl =\n",
              "          document.querySelector('#df-36af261b-a34e-4d97-a5f1-2522b16d52de button.colab-df-convert');\n",
              "        buttonEl.style.display =\n",
              "          google.colab.kernel.accessAllowed ? 'block' : 'none';\n",
              "\n",
              "        async function convertToInteractive(key) {\n",
              "          const element = document.querySelector('#df-36af261b-a34e-4d97-a5f1-2522b16d52de');\n",
              "          const dataTable =\n",
              "            await google.colab.kernel.invokeFunction('convertToInteractive',\n",
              "                                                     [key], {});\n",
              "          if (!dataTable) return;\n",
              "\n",
              "          const docLinkHtml = 'Like what you see? Visit the ' +\n",
              "            '<a target=\"_blank\" href=https://colab.research.google.com/notebooks/data_table.ipynb>data table notebook</a>'\n",
              "            + ' to learn more about interactive tables.';\n",
              "          element.innerHTML = '';\n",
              "          dataTable['output_type'] = 'display_data';\n",
              "          await google.colab.output.renderOutput(dataTable, element);\n",
              "          const docLink = document.createElement('div');\n",
              "          docLink.innerHTML = docLinkHtml;\n",
              "          element.appendChild(docLink);\n",
              "        }\n",
              "      </script>\n",
              "    </div>\n",
              "  </div>\n",
              "  "
            ]
          },
          "metadata": {},
          "execution_count": 273
        }
      ]
    },
    {
      "cell_type": "markdown",
      "source": [
        "## Q2: Separate the columns into dependent and independent variables (or features and labels). Then you split those variables into train and test sets (80:20)."
      ],
      "metadata": {
        "id": "tMGGT5L6DesM"
      }
    },
    {
      "cell_type": "code",
      "source": [
        "#separating the dependent and independent attributes\n",
        "x = df.drop(columns=['Recommended IND'])\n",
        "y = df['Recommended IND']"
      ],
      "metadata": {
        "id": "QYAs3WgdQjnZ"
      },
      "execution_count": null,
      "outputs": []
    },
    {
      "cell_type": "code",
      "source": [
        "#importing train_test_split for splitting of the dataset into traing and testing\n",
        "from sklearn.model_selection import train_test_split\n",
        "x_train, x_test, y_train, y_test = train_test_split(x, y, train_size=0.8, random_state=50)"
      ],
      "metadata": {
        "id": "dCucKxVQQrR1"
      },
      "execution_count": null,
      "outputs": []
    },
    {
      "cell_type": "markdown",
      "source": [
        "## Q3:Apply the Naïve Bayes Classification Algorithm on Sentiment category to \n",
        "## predict if item is recommended"
      ],
      "metadata": {
        "id": "NrUYTh9NDoBN"
      }
    },
    {
      "cell_type": "code",
      "source": [
        "# selecting the numerical columns\n",
        "numerical_cols = [cname for cname in x.columns if x[cname].dtype in ['int64', 'float64']]\n",
        "# selecting the categorical columns\n",
        "categorical_cols = [cname for cname in x.columns if x[cname].dtype == 'object']"
      ],
      "metadata": {
        "id": "MgGz87w6QuF7"
      },
      "execution_count": null,
      "outputs": []
    },
    {
      "cell_type": "code",
      "source": [
        "#Creating numerical_transformer to scale the continuous numerical data with RobustScaler()\n",
        "numerical_transformer = Pipeline(steps = [\n",
        "    ('scaler', RobustScaler())\n",
        "])\n",
        "\n",
        "#Creating categorical_transformer to encode the categorical data with OneHotEncoder()\n",
        "categorical_transformer = Pipeline(steps=[\n",
        "    ('vectorizer', CountVectorizer(stop_words='english', ngram_range=(1,2), max_features=10)),\n",
        "    ('onehot', OneHotEncoder(handle_unknown='ignore'))\n",
        "])\n",
        "\n",
        "#Creating preprocessor column transformer to combine the numerical_transformer and one-hot encoding pipelines\n",
        "preprocessor = ColumnTransformer(\n",
        "    transformers=[\n",
        "        ('num', numerical_transformer, numerical_cols),\n",
        "        ('cat', categorical_transformer, categorical_cols),\n",
        "      ])"
      ],
      "metadata": {
        "id": "YTmNN7mAQ2tb"
      },
      "execution_count": null,
      "outputs": []
    },
    {
      "cell_type": "code",
      "source": [
        "#Building prediction model\n",
        "from sklearn.naive_bayes import GaussianNB\n",
        "model = GaussianNB()"
      ],
      "metadata": {
        "id": "phis7bH6Q5To"
      },
      "execution_count": null,
      "outputs": []
    },
    {
      "cell_type": "code",
      "source": [
        "pipe = Pipeline(steps=[('preprocessor', preprocessor), ('model', model)])"
      ],
      "metadata": {
        "id": "hXLV1sYnQ7XB"
      },
      "execution_count": null,
      "outputs": []
    },
    {
      "cell_type": "code",
      "source": [
        "#fiiting the data in the model\n",
        "pipe.fit(x_train, y_train)"
      ],
      "metadata": {
        "colab": {
          "base_uri": "https://localhost:8080/"
        },
        "id": "Eg71ScCcUenm",
        "outputId": "d49e0637-19cd-44bb-ef5d-89bfea9093fa"
      },
      "execution_count": null,
      "outputs": [
        {
          "output_type": "execute_result",
          "data": {
            "text/plain": [
              "Pipeline(steps=[('preprocessor',\n",
              "                 ColumnTransformer(transformers=[('num',\n",
              "                                                  Pipeline(steps=[('scaler',\n",
              "                                                                   RobustScaler())]),\n",
              "                                                  ['Age', 'Rating',\n",
              "                                                   'Positive Feedback Count',\n",
              "                                                   'polarity', 'review_len',\n",
              "                                                   'word_count',\n",
              "                                                   'avg_word_len']),\n",
              "                                                 ('cat',\n",
              "                                                  Pipeline(steps=[('vectorizer',\n",
              "                                                                   CountVectorizer(max_features=10,\n",
              "                                                                                   ngram_range=(1,\n",
              "                                                                                                2),\n",
              "                                                                                   stop_words='english')),\n",
              "                                                                  ('onehot',\n",
              "                                                                   OneHotEncoder(handle_unknown='ignore'))]),\n",
              "                                                  [])])),\n",
              "                ('model', GaussianNB())])"
            ]
          },
          "metadata": {},
          "execution_count": 280
        }
      ]
    },
    {
      "cell_type": "code",
      "source": [
        "#score of the model\n",
        "pipe.score(x_test, y_test)"
      ],
      "metadata": {
        "colab": {
          "base_uri": "https://localhost:8080/"
        },
        "id": "dLQslqXXUhTd",
        "outputId": "dbba0ee3-a202-45ee-9d8b-2b2e250d10c3"
      },
      "execution_count": null,
      "outputs": [
        {
          "output_type": "execute_result",
          "data": {
            "text/plain": [
              "0.9256609642301711"
            ]
          },
          "metadata": {},
          "execution_count": 281
        }
      ]
    },
    {
      "cell_type": "markdown",
      "source": [
        "## Q4:Tabulate accuracy in terms of precision, recall and F1 score."
      ],
      "metadata": {
        "id": "7mgclqPyDxQb"
      }
    },
    {
      "cell_type": "code",
      "source": [
        "#from scikit learn importing KFold for model validation\n",
        "from sklearn.model_selection import KFold\n",
        "#from scikit learn importing cross_val_score for estimating the skill of the model on new data\n",
        "from sklearn.model_selection import cross_val_score\n",
        "cv = KFold(n_splits=10, random_state=105, shuffle=True)\n"
      ],
      "metadata": {
        "id": "UwxDbcEFkT50"
      },
      "execution_count": null,
      "outputs": []
    },
    {
      "cell_type": "code",
      "source": [
        "#Precision of the model\n",
        "precision = cross_val_score(pipe, x, y, cv=cv, scoring='precision')\n",
        "np.mean(precision)"
      ],
      "metadata": {
        "colab": {
          "base_uri": "https://localhost:8080/"
        },
        "id": "z1mxCCKPkbex",
        "outputId": "f74a28bf-f938-4185-f914-afb045c0d641"
      },
      "execution_count": null,
      "outputs": [
        {
          "output_type": "execute_result",
          "data": {
            "text/plain": [
              "0.9801417330407233"
            ]
          },
          "metadata": {},
          "execution_count": 283
        }
      ]
    },
    {
      "cell_type": "markdown",
      "source": [
        "Infernce: Correct positive predictions relative to total positive predictions are 98% which is extremely good"
      ],
      "metadata": {
        "id": "AZfqEBRaD5oq"
      }
    },
    {
      "cell_type": "code",
      "source": [
        "#Sensitivity (or recall) of the model\n",
        "recall = cross_val_score(pipe, x, y, cv=cv, scoring='recall')\n",
        "np.mean(recall)"
      ],
      "metadata": {
        "colab": {
          "base_uri": "https://localhost:8080/"
        },
        "id": "KSwG312ckeBf",
        "outputId": "290f5c72-a12b-4f6f-cb83-a265ca68319a"
      },
      "execution_count": null,
      "outputs": [
        {
          "output_type": "execute_result",
          "data": {
            "text/plain": [
              "0.9318485099592934"
            ]
          },
          "metadata": {},
          "execution_count": 284
        }
      ]
    },
    {
      "cell_type": "markdown",
      "source": [
        "Infernce: Correct positive predictions relative to total actual positives are 93% , which is again a very good score"
      ],
      "metadata": {
        "id": "1Tz_JTlsEGsH"
      }
    },
    {
      "cell_type": "code",
      "source": [
        "#F1_score of the model\n",
        "F1_Score = 2 * (precision * recall) / (precision + recall)\n",
        "np.mean(F1_Score)"
      ],
      "metadata": {
        "colab": {
          "base_uri": "https://localhost:8080/"
        },
        "id": "w5DXSAwrk08D",
        "outputId": "965c3b54-56f5-4a19-e466-97b91a9110f0"
      },
      "execution_count": null,
      "outputs": [
        {
          "output_type": "execute_result",
          "data": {
            "text/plain": [
              "0.9553753101767523"
            ]
          },
          "metadata": {},
          "execution_count": 285
        }
      ]
    },
    {
      "cell_type": "markdown",
      "source": [
        "Infernce: The F1_Score of the model is 0.955 which is quite high, hence the model is nearly perfect"
      ],
      "metadata": {
        "id": "IjVoetgGELsA"
      }
    }
  ]
}